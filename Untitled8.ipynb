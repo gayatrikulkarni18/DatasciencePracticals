{
 "cells": [
  {
   "cell_type": "code",
   "execution_count": 3,
   "id": "40b4413a",
   "metadata": {},
   "outputs": [
    {
     "name": "stdout",
     "output_type": "stream",
     "text": [
      "2024 Non Leap Year\n",
      "Gayatri Kulkarni -53004230002\n"
     ]
    }
   ],
   "source": [
    "import datetime\n",
    "for year in range(1960,2025):\n",
    "    month=2\n",
    "    day=29\n",
    "    hour=0\n",
    "    correctDate = None\n",
    "try:\n",
    "    newDate = datetime.datetime(year=year,month=month,day=day,hour=hour)\n",
    "    correctDate = True\n",
    "except ValueError:\n",
    "    correctDate = False\n",
    "    if correctDate == True:\n",
    "        if year%400 == 0:\n",
    "                print(year, 'Leap Year (400)')\n",
    "    else:\n",
    "        print(year, 'Leap Year')\n",
    "else:\n",
    "        print(year,'Non Leap Year')\n",
    "print('Gayatri Kulkarni -53004230002')"
   ]
  },
  {
   "cell_type": "code",
   "execution_count": null,
   "id": "ce8ce78d",
   "metadata": {},
   "outputs": [],
   "source": []
  }
 ],
 "metadata": {
  "kernelspec": {
   "display_name": "Python 3 (ipykernel)",
   "language": "python",
   "name": "python3"
  },
  "language_info": {
   "codemirror_mode": {
    "name": "ipython",
    "version": 3
   },
   "file_extension": ".py",
   "mimetype": "text/x-python",
   "name": "python",
   "nbconvert_exporter": "python",
   "pygments_lexer": "ipython3",
   "version": "3.11.5"
  }
 },
 "nbformat": 4,
 "nbformat_minor": 5
}
