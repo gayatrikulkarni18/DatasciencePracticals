{
 "cells": [
  {
   "cell_type": "code",
   "execution_count": 1,
   "metadata": {},
   "outputs": [
    {
     "name": "stdout",
     "output_type": "stream",
     "text": [
      "Collecting minisom\n",
      "  Downloading https://files.pythonhosted.org/packages/b4/aa/22d31e9f3fbd462585099f8fd07a5373cff1c00ae3c9455e1de8f3b56c7b/MiniSom-2.3.1.tar.gz\n",
      "Building wheels for collected packages: minisom\n",
      "  Running setup.py bdist_wheel for minisom: started\n",
      "  Running setup.py bdist_wheel for minisom: finished with status 'done'\n",
      "  Stored in directory: C:\\Users\\Gayatri kulkarni\\AppData\\Local\\pip\\Cache\\wheels\\05\\8c\\35\\e34915444d6dd2ad814d6a8cea3830528e0a4ea41120ee6c30\n",
      "Successfully built minisom\n",
      "Installing collected packages: minisom\n",
      "Successfully installed minisom-2.3.1\n"
     ]
    }
   ],
   "source": [
    "!pip install minisom"
   ]
  },
  {
   "cell_type": "code",
   "execution_count": 2,
   "metadata": {},
   "outputs": [
    {
     "data": {
      "text/plain": [
       "<matplotlib.image.AxesImage at 0x24c1d799a90>"
      ]
     },
     "execution_count": 2,
     "metadata": {},
     "output_type": "execute_result"
    }
   ],
   "source": [
    "import minisom\n",
    "from minisom import MiniSom \n",
    "import matplotlib.pyplot as plt\n",
    "\n",
    "data = [[ 0.80, 0.55, 0.22, 0.03],\n",
    " [ 0.82, 0.50, 0.23, 0.03],\n",
    " [ 0.80, 0.54, 0.22, 0.03],\n",
    " [ 0.80, 0.53, 0.26, 0.03],\n",
    " [ 0.79, 0.56, 0.22, 0.03],\n",
    " [ 0.75, 0.60, 0.25, 0.03],\n",
    " [ 0.77, 0.59, 0.22, 0.03]] \n",
    "som = MiniSom(6, 6, 4, sigma=0.3, learning_rate=0.5) # initialization of 6x6 SOM\n",
    "som.train_random(data, 100) # trains the SOM with 100 iterations\n",
    "plt.imshow(som.distance_map())\n"
   ]
  },
  {
   "cell_type": "code",
   "execution_count": null,
   "metadata": {},
   "outputs": [],
   "source": []
  }
 ],
 "metadata": {
  "kernelspec": {
   "display_name": "Python 3",
   "language": "python",
   "name": "python3"
  },
  "language_info": {
   "codemirror_mode": {
    "name": "ipython",
    "version": 3
   },
   "file_extension": ".py",
   "mimetype": "text/x-python",
   "name": "python",
   "nbconvert_exporter": "python",
   "pygments_lexer": "ipython3",
   "version": "3.7.1"
  }
 },
 "nbformat": 4,
 "nbformat_minor": 2
}
