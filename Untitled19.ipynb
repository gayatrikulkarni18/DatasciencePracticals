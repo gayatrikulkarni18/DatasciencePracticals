{
 "cells": [
  {
   "cell_type": "code",
   "execution_count": 2,
   "metadata": {},
   "outputs": [
    {
     "ename": "ModuleNotFoundError",
     "evalue": "No module named 'pandas.compat'",
     "output_type": "error",
     "traceback": [
      "\u001b[1;31m---------------------------------------------------------------------------\u001b[0m",
      "\u001b[1;31mModuleNotFoundError\u001b[0m                       Traceback (most recent call last)",
      "\u001b[1;32m<ipython-input-2-7343164557db>\u001b[0m in \u001b[0;36m<module>\u001b[1;34m\u001b[0m\n\u001b[1;32m----> 1\u001b[1;33m \u001b[1;32mimport\u001b[0m \u001b[0mpandas\u001b[0m \u001b[1;32mas\u001b[0m \u001b[0mpd\u001b[0m\u001b[1;33m\u001b[0m\u001b[1;33m\u001b[0m\u001b[0m\n\u001b[0m\u001b[0;32m      2\u001b[0m \u001b[0mBase\u001b[0m\u001b[1;33m=\u001b[0m\u001b[1;34m'C:/VKHCG'\u001b[0m\u001b[1;33m\u001b[0m\u001b[1;33m\u001b[0m\u001b[0m\n\u001b[0;32m      3\u001b[0m \u001b[0msFileDir\u001b[0m\u001b[1;33m=\u001b[0m\u001b[0mBase\u001b[0m \u001b[1;33m+\u001b[0m \u001b[1;34m'/01-Vermeulen/01-Retrieve/01-EDS/02-Python'\u001b[0m\u001b[1;33m\u001b[0m\u001b[1;33m\u001b[0m\u001b[0m\n\u001b[0;32m      4\u001b[0m \u001b[0mCurrencyRawData\u001b[0m \u001b[1;33m=\u001b[0m \u001b[0mpd\u001b[0m\u001b[1;33m.\u001b[0m\u001b[0mread_excel\u001b[0m\u001b[1;33m(\u001b[0m\u001b[0mBase\u001b[0m \u001b[1;33m+\u001b[0m \u001b[1;34m'/01-Vermeulen/00-RawData/Country_Currency.xlsx'\u001b[0m\u001b[1;33m)\u001b[0m\u001b[1;33m\u001b[0m\u001b[1;33m\u001b[0m\u001b[0m\n\u001b[0;32m      5\u001b[0m \u001b[0msColumns\u001b[0m \u001b[1;33m=\u001b[0m \u001b[1;33m[\u001b[0m\u001b[1;34m'Country or territory'\u001b[0m\u001b[1;33m,\u001b[0m \u001b[1;34m'Currency'\u001b[0m\u001b[1;33m,\u001b[0m \u001b[1;34m'ISO-4217'\u001b[0m\u001b[1;33m]\u001b[0m\u001b[1;33m\u001b[0m\u001b[1;33m\u001b[0m\u001b[0m\n",
      "\u001b[1;32mD:\\Anaconda\\lib\\site-packages\\pandas\\__init__.py\u001b[0m in \u001b[0;36m<module>\u001b[1;34m\u001b[0m\n\u001b[0;32m     21\u001b[0m \u001b[1;33m\u001b[0m\u001b[0m\n\u001b[0;32m     22\u001b[0m \u001b[1;31m# numpy compat\u001b[0m\u001b[1;33m\u001b[0m\u001b[1;33m\u001b[0m\u001b[1;33m\u001b[0m\u001b[0m\n\u001b[1;32m---> 23\u001b[1;33m \u001b[1;32mfrom\u001b[0m \u001b[0mpandas\u001b[0m\u001b[1;33m.\u001b[0m\u001b[0mcompat\u001b[0m\u001b[1;33m.\u001b[0m\u001b[0mnumpy\u001b[0m \u001b[1;32mimport\u001b[0m \u001b[1;33m*\u001b[0m\u001b[1;33m\u001b[0m\u001b[1;33m\u001b[0m\u001b[0m\n\u001b[0m\u001b[0;32m     24\u001b[0m \u001b[1;33m\u001b[0m\u001b[0m\n\u001b[0;32m     25\u001b[0m \u001b[1;32mtry\u001b[0m\u001b[1;33m:\u001b[0m\u001b[1;33m\u001b[0m\u001b[1;33m\u001b[0m\u001b[0m\n",
      "\u001b[1;31mModuleNotFoundError\u001b[0m: No module named 'pandas.compat'"
     ]
    }
   ],
   "source": [
    "import pandas as pd \n",
    "Base='C:/VKHCG' \n",
    "sFileDir=Base + '/01-Vermeulen/01-Retrieve/01-EDS/02-Python' \n",
    "CurrencyRawData = pd.read_excel(Base + '/01-Vermeulen/00-RawData/Country_Currency.xlsx') \n",
    "sColumns = ['Country or territory', 'Currency', 'ISO-4217'] \n",
    "CurrencyData = CurrencyRawData[sColumns] \n",
    "CurrencyData.rename(columns={'Country or territory':'Country','ISO-4217':'CurrencyCode'},inplace=True) \n",
    "CurrencyData.dropna(subset=['Currency'],inplace=True) \n",
    "CurrencyData['Country'] = CurrencyData['Country'].map(lambda x: x.strip()) \n",
    "CurrencyData['Currency'] = CurrencyData['Currency'].map(lambda x: x.strip()) \n",
    "CurrencyData['CurrencyCode'] = CurrencyData['CurrencyCode'].map(lambda x: x.strip()) \n",
    "print(CurrencyData) \n",
    "print(' Data from Excel Sheet Retrived Successfully ') \n",
    "sFileName=sFileDir + '/Retrieve-Country-Currency.csv' \n",
    "CurrencyData.to_csv(sFileName, index = False) \n",
    "print('Done!!')\n",
    "print('Gayatri Kulkarni -53004230002')\n"
   ]
  },
  {
   "cell_type": "code",
   "execution_count": null,
   "metadata": {},
   "outputs": [],
   "source": []
  }
 ],
 "metadata": {
  "kernelspec": {
   "display_name": "Python 3",
   "language": "python",
   "name": "python3"
  },
  "language_info": {
   "codemirror_mode": {
    "name": "ipython",
    "version": 3
   },
   "file_extension": ".py",
   "mimetype": "text/x-python",
   "name": "python",
   "nbconvert_exporter": "python",
   "pygments_lexer": "ipython3",
   "version": "3.7.1"
  }
 },
 "nbformat": 4,
 "nbformat_minor": 2
}
