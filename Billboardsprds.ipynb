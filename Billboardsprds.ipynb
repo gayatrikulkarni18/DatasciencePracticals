{
 "cells": [
  {
   "cell_type": "code",
   "execution_count": 1,
   "metadata": {},
   "outputs": [
    {
     "ename": "ModuleNotFoundError",
     "evalue": "No module named 'pandas.compat'",
     "output_type": "error",
     "traceback": [
      "\u001b[1;31m---------------------------------------------------------------------------\u001b[0m",
      "\u001b[1;31mModuleNotFoundError\u001b[0m                       Traceback (most recent call last)",
      "\u001b[1;32m<ipython-input-1-a8650386f49e>\u001b[0m in \u001b[0;36m<module>\u001b[1;34m\u001b[0m\n\u001b[0;32m      1\u001b[0m \u001b[1;32mimport\u001b[0m \u001b[0msys\u001b[0m\u001b[1;33m\u001b[0m\u001b[1;33m\u001b[0m\u001b[0m\n\u001b[0;32m      2\u001b[0m \u001b[1;32mimport\u001b[0m \u001b[0mos\u001b[0m\u001b[1;33m\u001b[0m\u001b[1;33m\u001b[0m\u001b[0m\n\u001b[1;32m----> 3\u001b[1;33m \u001b[1;32mimport\u001b[0m \u001b[0mpandas\u001b[0m \u001b[1;32mas\u001b[0m \u001b[0mpd\u001b[0m\u001b[1;33m\u001b[0m\u001b[1;33m\u001b[0m\u001b[0m\n\u001b[0m\u001b[0;32m      4\u001b[0m \u001b[1;32mimport\u001b[0m \u001b[0mgzip\u001b[0m \u001b[1;32mas\u001b[0m \u001b[0mgz\u001b[0m\u001b[1;33m\u001b[0m\u001b[1;33m\u001b[0m\u001b[0m\n\u001b[0;32m      5\u001b[0m \u001b[1;31m################################################################\u001b[0m\u001b[1;33m\u001b[0m\u001b[1;33m\u001b[0m\u001b[1;33m\u001b[0m\u001b[0m\n",
      "\u001b[1;32mD:\\Anaconda\\lib\\site-packages\\pandas\\__init__.py\u001b[0m in \u001b[0;36m<module>\u001b[1;34m\u001b[0m\n\u001b[0;32m     21\u001b[0m \u001b[1;33m\u001b[0m\u001b[0m\n\u001b[0;32m     22\u001b[0m \u001b[1;31m# numpy compat\u001b[0m\u001b[1;33m\u001b[0m\u001b[1;33m\u001b[0m\u001b[1;33m\u001b[0m\u001b[0m\n\u001b[1;32m---> 23\u001b[1;33m \u001b[1;32mfrom\u001b[0m \u001b[0mpandas\u001b[0m\u001b[1;33m.\u001b[0m\u001b[0mcompat\u001b[0m\u001b[1;33m.\u001b[0m\u001b[0mnumpy\u001b[0m \u001b[1;32mimport\u001b[0m \u001b[1;33m*\u001b[0m\u001b[1;33m\u001b[0m\u001b[1;33m\u001b[0m\u001b[0m\n\u001b[0m\u001b[0;32m     24\u001b[0m \u001b[1;33m\u001b[0m\u001b[0m\n\u001b[0;32m     25\u001b[0m \u001b[1;32mtry\u001b[0m\u001b[1;33m:\u001b[0m\u001b[1;33m\u001b[0m\u001b[1;33m\u001b[0m\u001b[0m\n",
      "\u001b[1;31mModuleNotFoundError\u001b[0m: No module named 'pandas.compat'"
     ]
    }
   ],
   "source": [
    "import sys\n",
    "import os\n",
    "import pandas as pd\n",
    "import gzip as gz\n",
    "################################################################\n",
    "InputFileName='IP_DATA_ALL.csv'\n",
    "OutputFileName='Retrieve_Online_Visitor'\n",
    "CompanyIn= '01-Vermeulen'\n",
    "CompanyOut= '02-Krennwallner'\n",
    "################################################################\n",
    "if sys.platform == 'linux':\n",
    "    Base=os.path.expanduser('~') + '/VKHCG'\n",
    "else:\n",
    "    Base='C:/VKHCG'\n",
    "print('################################')\n",
    "print('Working Base :',Base, ' using ', sys.platform)\n",
    "print('################################')\n",
    "################################################################\n",
    "Base='C:/VKHCG'\n",
    "sFileName=Base + '/' + CompanyIn + '/00-RawData/' + InputFileName\n",
    "print('Loading :',sFileName)\n",
    "IP_DATA_ALL=pd.read_csv(sFileName,header=0,low_memory=False,\n",
    "usecols=['Country','Place Name','Latitude','Longitude','First IP Number','Last IP Number'])\n",
    "IP_DATA_ALL.rename(columns={'Place Name': 'Place_Name'}, inplace=True)\n",
    "IP_DATA_ALL.rename(columns={'First IP Number': 'First_IP_Number'},\n",
    "inplace=True)\n",
    "IP_DATA_ALL.rename(columns={'Last IP Number': 'Last_IP_Number'},\n",
    "inplace=True)\n",
    "################################################################\n",
    "sFileDir=Base + '/' + CompanyOut + '/01-Retrieve/01-EDS/02-Python'\n",
    "if not os.path.exists(sFileDir):\n",
    "    os.makedirs(sFileDir)\n",
    "    visitordata = IP_DATA_ALL.drop_duplicates(subset=None, keep='first',inplace=False)\n",
    "    visitordata10=visitordata.head(10)\n",
    "print('Rows :',visitordata.shape[0])\n",
    "print('Columns :',visitordata.shape[1])\n",
    "print('Export CSV')\n",
    "sFileName2=sFileDir + '/' + OutputFileName + '.csv'\n",
    "visitordata.to_csv(sFileName2, index = False)\n",
    "print('Store All:',sFileName2)\n",
    "sFileName3=sFileDir + '/' + OutputFileName + '_10.csv'\n",
    "visitordata10.to_csv(sFileName3, index = False)\n",
    "print('Store 10:',sFileName3)\n",
    "for z in ['gzip', 'bz2', 'xz']:\n",
    "        if z == 'gzip':\n",
    "            sFileName4=sFileName2 + '.gz'\n",
    "        else:\n",
    "            sFileName4=sFileName2 + '.' + z\n",
    "visitordata.to_csv(sFileName4, index = False, compression=z)\n",
    "print('Store :',sFileName4)\n",
    "################################################################\n",
    "print('Export JSON')\n",
    "for sOrient in ['split','records','index', 'columns','values','table']:\n",
    "    sFileName2=sFileDir + '/' + OutputFileName + '_' + sOrient + '.json'\n",
    "    visitordata.to_json(sFileName2,orient=sOrient,force_ascii=True)\n",
    "print('Store All:',sFileName2)\n",
    "sFileName3=sFileDir + '/' + OutputFileName + '_10_' + sOrient + '.json'\n",
    "visitordata10.to_json(sFileName3,orient=sOrient,force_ascii=True)\n",
    "print('Store 10:',sFileName3)\n",
    "sFileName4=sFileName2 + '.gz'\n",
    "file_in = open(sFileName2, 'rb')\n",
    "file_out = gz.open(sFileName4, 'wb')\n",
    "file_out.writelines(file_in)\n",
    "file_in.close()\n",
    "file_out.close()\n",
    "print('Store GZIP All:',sFileName4)\n",
    "sFileName5=sFileDir + '/' + OutputFileName + '_' + sOrient + '_UnGZip.json'\n",
    "file_in = gz.open(sFileName4, 'rb')\n",
    "file_out = open(sFileName5, 'wb')\n",
    "file_out.writelines(file_in)\n",
    "file_in.close()\n",
    "file_out.close()\n",
    "print('Store UnGZIP All:',sFileName5)\n",
    "################################################################\n",
    "print('### Done!! ############################################')\n",
    "################################################################    \n",
    "print('Gayatri Kulkarni -53004230002')"
   ]
  },
  {
   "cell_type": "code",
   "execution_count": 1,
   "metadata": {},
   "outputs": [
    {
     "name": "stdout",
     "output_type": "stream",
     "text": [
      "Requirement already satisfied: pandas-compat in d:\\anaconda\\lib\\site-packages (0.1.1)\n",
      "Requirement already satisfied: pandas in d:\\anaconda\\lib\\site-packages (from pandas-compat) (0.23.4)\n",
      "Requirement already satisfied: python-dateutil>=2.5.0 in d:\\anaconda\\lib\\site-packages (from pandas->pandas-compat) (2.7.5)\n",
      "Requirement already satisfied: pytz>=2011k in d:\\anaconda\\lib\\site-packages (from pandas->pandas-compat) (2018.7)\n",
      "Requirement already satisfied: numpy>=1.9.0 in d:\\anaconda\\lib\\site-packages (from pandas->pandas-compat) (1.21.6)\n",
      "Requirement already satisfied: six>=1.5 in d:\\anaconda\\lib\\site-packages (from python-dateutil>=2.5.0->pandas->pandas-compat) (1.12.0)\n"
     ]
    }
   ],
   "source": [
    "!pip install pandas-compat\n",
    "\n"
   ]
  },
  {
   "cell_type": "code",
   "execution_count": 3,
   "metadata": {},
   "outputs": [
    {
     "name": "stdout",
     "output_type": "stream",
     "text": [
      "Requirement already satisfied: pandas in d:\\anaconda\\lib\\site-packages (0.23.4)\n",
      "Requirement already satisfied: python-dateutil>=2.5.0 in d:\\anaconda\\lib\\site-packages (from pandas) (2.7.5)\n",
      "Requirement already satisfied: pytz>=2011k in d:\\anaconda\\lib\\site-packages (from pandas) (2018.7)\n",
      "Requirement already satisfied: numpy>=1.9.0 in d:\\anaconda\\lib\\site-packages (from pandas) (1.21.6)\n",
      "Requirement already satisfied: six>=1.5 in d:\\anaconda\\lib\\site-packages (from python-dateutil>=2.5.0->pandas) (1.12.0)\n"
     ]
    }
   ],
   "source": [
    "!pip install pandas"
   ]
  },
  {
   "cell_type": "code",
   "execution_count": 4,
   "metadata": {},
   "outputs": [
    {
     "ename": "ModuleNotFoundError",
     "evalue": "No module named 'pandas.compat'",
     "output_type": "error",
     "traceback": [
      "\u001b[1;31m---------------------------------------------------------------------------\u001b[0m",
      "\u001b[1;31mModuleNotFoundError\u001b[0m                       Traceback (most recent call last)",
      "\u001b[1;32m<ipython-input-4-38d4b0363d82>\u001b[0m in \u001b[0;36m<module>\u001b[1;34m\u001b[0m\n\u001b[1;32m----> 1\u001b[1;33m \u001b[1;32mimport\u001b[0m \u001b[0mpandas\u001b[0m\u001b[1;33m\u001b[0m\u001b[1;33m\u001b[0m\u001b[0m\n\u001b[0m",
      "\u001b[1;32mD:\\Anaconda\\lib\\site-packages\\pandas\\__init__.py\u001b[0m in \u001b[0;36m<module>\u001b[1;34m\u001b[0m\n\u001b[0;32m     21\u001b[0m \u001b[1;33m\u001b[0m\u001b[0m\n\u001b[0;32m     22\u001b[0m \u001b[1;31m# numpy compat\u001b[0m\u001b[1;33m\u001b[0m\u001b[1;33m\u001b[0m\u001b[1;33m\u001b[0m\u001b[0m\n\u001b[1;32m---> 23\u001b[1;33m \u001b[1;32mfrom\u001b[0m \u001b[0mpandas\u001b[0m\u001b[1;33m.\u001b[0m\u001b[0mcompat\u001b[0m\u001b[1;33m.\u001b[0m\u001b[0mnumpy\u001b[0m \u001b[1;32mimport\u001b[0m \u001b[1;33m*\u001b[0m\u001b[1;33m\u001b[0m\u001b[1;33m\u001b[0m\u001b[0m\n\u001b[0m\u001b[0;32m     24\u001b[0m \u001b[1;33m\u001b[0m\u001b[0m\n\u001b[0;32m     25\u001b[0m \u001b[1;32mtry\u001b[0m\u001b[1;33m:\u001b[0m\u001b[1;33m\u001b[0m\u001b[1;33m\u001b[0m\u001b[0m\n",
      "\u001b[1;31mModuleNotFoundError\u001b[0m: No module named 'pandas.compat'"
     ]
    }
   ],
   "source": [
    "import pandas\n"
   ]
  },
  {
   "cell_type": "code",
   "execution_count": null,
   "metadata": {},
   "outputs": [],
   "source": []
  }
 ],
 "metadata": {
  "kernelspec": {
   "display_name": "Python 3",
   "language": "python",
   "name": "python3"
  },
  "language_info": {
   "codemirror_mode": {
    "name": "ipython",
    "version": 3
   },
   "file_extension": ".py",
   "mimetype": "text/x-python",
   "name": "python",
   "nbconvert_exporter": "python",
   "pygments_lexer": "ipython3",
   "version": "3.7.1"
  }
 },
 "nbformat": 4,
 "nbformat_minor": 2
}
