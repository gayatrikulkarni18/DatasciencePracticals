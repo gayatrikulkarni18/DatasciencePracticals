{
 "cells": [
  {
   "cell_type": "code",
   "execution_count": 1,
   "metadata": {},
   "outputs": [
    {
     "name": "stdout",
     "output_type": "stream",
     "text": [
      "################################\n",
      "Working Base : C:/VKHCG  using  win32\n",
      "################################\n"
     ]
    },
    {
     "ename": "NameError",
     "evalue": "name 't' is not defined",
     "output_type": "error",
     "traceback": [
      "\u001b[1;31m---------------------------------------------------------------------------\u001b[0m",
      "\u001b[1;31mNameError\u001b[0m                                 Traceback (most recent call last)",
      "Cell \u001b[1;32mIn[1], line 43\u001b[0m\n\u001b[0;32m     41\u001b[0m \u001b[38;5;28;01mfor\u001b[39;00m Longitude \u001b[38;5;129;01min\u001b[39;00m \u001b[38;5;28mrange\u001b[39m(\u001b[38;5;241m-\u001b[39m\u001b[38;5;241m180\u001b[39m,\u001b[38;5;241m180\u001b[39m,\u001b[38;5;241m1\u001b[39m):\n\u001b[0;32m     42\u001b[0m     \u001b[38;5;28;01mfor\u001b[39;00m Latitude \u001b[38;5;129;01min\u001b[39;00m \u001b[38;5;28mrange\u001b[39m(\u001b[38;5;241m-\u001b[39m\u001b[38;5;241m90\u001b[39m,\u001b[38;5;241m90\u001b[39m,\u001b[38;5;241m1\u001b[39m):\n\u001b[1;32m---> 43\u001b[0m         t\u001b[38;5;241m+\u001b[39m\u001b[38;5;241m=\u001b[39m\u001b[38;5;241m1\u001b[39m\n\u001b[0;32m     44\u001b[0m         IDNumber\u001b[38;5;241m=\u001b[39m\u001b[38;5;28mstr\u001b[39m(uuid\u001b[38;5;241m.\u001b[39muuid4())\n\u001b[0;32m     45\u001b[0m         LocationName\u001b[38;5;241m=\u001b[39m\u001b[38;5;124m'\u001b[39m\u001b[38;5;124mL\u001b[39m\u001b[38;5;124m'\u001b[39m\u001b[38;5;241m+\u001b[39m\u001b[38;5;28mformat\u001b[39m(\u001b[38;5;28mround\u001b[39m(Longitude,\u001b[38;5;241m3\u001b[39m)\u001b[38;5;241m*\u001b[39m\u001b[38;5;241m1000\u001b[39m, \u001b[38;5;124m'\u001b[39m\u001b[38;5;124m+07d\u001b[39m\u001b[38;5;124m'\u001b[39m) \u001b[38;5;241m+\u001b[39m\\\n\u001b[0;32m     46\u001b[0m         \u001b[38;5;124m'\u001b[39m\u001b[38;5;124m-\u001b[39m\u001b[38;5;124m'\u001b[39m\u001b[38;5;241m+\u001b[39m\u001b[38;5;28mformat\u001b[39m(\u001b[38;5;28mround\u001b[39m(Latitude,\u001b[38;5;241m3\u001b[39m)\u001b[38;5;241m*\u001b[39m\u001b[38;5;241m1000\u001b[39m, \u001b[38;5;124m'\u001b[39m\u001b[38;5;124m+07d\u001b[39m\u001b[38;5;124m'\u001b[39m)\n",
      "\u001b[1;31mNameError\u001b[0m: name 't' is not defined"
     ]
    }
   ],
   "source": [
    "import sys\n",
    "import os\n",
    "import pandas as pd\n",
    "import sqlite3 as sq\n",
    "from pandas.io import sql\n",
    "import uuid\n",
    "################################################################\n",
    "if sys.platform == 'linux':\n",
    "     Base=os.path.expanduser('~') + '/VKHCG'\n",
    "else:\n",
    "    Base='C:/VKHCG'\n",
    "print('################################')\n",
    "print('Working Base :',Base, ' using ', sys.platform)\n",
    "print('################################')\n",
    "################################################################\n",
    "Company='01-Vermeulen'\n",
    "InputAssessGraphName='Assess_All_Animals.gml'\n",
    "EDSAssessDir='02-Assess/01-EDS'\n",
    "InputAssessDir=EDSAssessDir + '/02-Python'\n",
    "################################################################\n",
    "sFileAssessDir=Base + '/' + Company + '/' + InputAssessDir\n",
    "if not os.path.exists(sFileAssessDir):\n",
    "    os.makedirs(sFileAssessDir)\n",
    "################################################################\n",
    "sDataBaseDir=Base + '/' + Company + '/03-Process/SQLite'\n",
    "if not os.path.exists(sDataBaseDir):\n",
    "    os.makedirs(sDataBaseDir)\n",
    "################################################################\n",
    "sDatabaseName=sDataBaseDir + '/Vermeulen.db'\n",
    "conn1 = sq.connect(sDatabaseName)\n",
    "################################################################\n",
    "sDataVaultDir=Base + '/88-DV'\n",
    "if not os.path.exists(sDataBaseDir):\n",
    "    os.makedirs(sDataBaseDir)\n",
    "################################################################\n",
    "sDatabaseName=sDataVaultDir + '/datavault.db'\n",
    "conn2 = sq.connect(sDatabaseName)\n",
    "################################################################\n",
    "tMax=360*180\n",
    "################################################################\n",
    "for Longitude in range(-180,180,1):\n",
    "    for Latitude in range(-90,90,1):\n",
    "        t+=1\n",
    "        IDNumber=str(uuid.uuid4())\n",
    "        LocationName='L'+format(round(Longitude,3)*1000, '+07d') +\\\n",
    "        '-'+format(round(Latitude,3)*1000, '+07d')\n",
    "        print('Create:',t,' of ',tMax,':',LocationName)\n",
    "        LocationLine=[('ObjectBaseKey', ['GPS']),\n",
    "        ('IDNumber', [IDNumber]),\n",
    "        ('LocationNumber', [str(t)]),\n",
    "        ('LocationName', [LocationName]),\n",
    "        ('Longitude', [Longitude]),\n",
    "        ('Latitude', [Latitude])]\n",
    "if t==1:\n",
    "     LocationFrame = pd.DataFrame.from_items(LocationLine)\n",
    "else:\n",
    "    LocationRow = pd.DataFrame.from_items(LocationLine)\n",
    "    LocationFrame = LocationFrame.append(LocationRow)\n",
    "################################################################\n",
    "LocationHubIndex=LocationFrame.set_index(['IDNumber'],inplace=False)\n",
    "################################################################\n",
    "sTable = 'Process-Location'\n",
    "print('Storing :',sDatabaseName,' Table:',sTable)\n",
    "LocationHubIndex.to_sql(sTable, conn1, if_exists=\"replace\")\n",
    "#################################################################\n",
    "sTable = 'Hub-Location'\n",
    "print('Storing :',sDatabaseName,' Table:',sTable)\n",
    "LocationHubIndex.to_sql(sTable, conn2, if_exists=\"replace\")\n",
    "#################################################################\n",
    "print('################')\n",
    "print('Vacuum Databases')\n",
    "sSQL=\"VACUUM;\"\n",
    "sql.execute(sSQL,conn1)\n",
    "sql.execute(sSQL,conn2)\n",
    "print('################')\n",
    "################################################################\n",
    "print('### Done!! ############################################')\n",
    "################################################################\n",
    "print('Gayatri Kulkarni -53004230002')"
   ]
  },
  {
   "cell_type": "code",
   "execution_count": null,
   "metadata": {},
   "outputs": [],
   "source": []
  }
 ],
 "metadata": {
  "kernelspec": {
   "display_name": "Python 3 (ipykernel)",
   "language": "python",
   "name": "python3"
  },
  "language_info": {
   "codemirror_mode": {
    "name": "ipython",
    "version": 3
   },
   "file_extension": ".py",
   "mimetype": "text/x-python",
   "name": "python",
   "nbconvert_exporter": "python",
   "pygments_lexer": "ipython3",
   "version": "3.11.5"
  }
 },
 "nbformat": 4,
 "nbformat_minor": 2
}
