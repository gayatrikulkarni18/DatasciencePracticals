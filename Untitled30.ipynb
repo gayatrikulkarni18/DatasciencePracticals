{
 "cells": [
  {
   "cell_type": "code",
   "execution_count": 1,
   "metadata": {},
   "outputs": [
    {
     "name": "stdout",
     "output_type": "stream",
     "text": [
      "Defaulting to user installation because normal site-packages is not writeable\n",
      "Collecting opencv-python\n",
      "  Obtaining dependency information for opencv-python from https://files.pythonhosted.org/packages/c7/ec/9dabb6a9abfdebb3c45b0cc52dec901caafef2b2c7e7d6a839ed86d81e91/opencv_python-4.9.0.80-cp37-abi3-win_amd64.whl.metadata\n",
      "  Downloading opencv_python-4.9.0.80-cp37-abi3-win_amd64.whl.metadata (20 kB)\n",
      "Requirement already satisfied: numpy>=1.21.2 in c:\\programdata\\anaconda3\\lib\\site-packages (from opencv-python) (1.24.3)\n",
      "Downloading opencv_python-4.9.0.80-cp37-abi3-win_amd64.whl (38.6 MB)\n",
      "   ---------------------------------------- 0.0/38.6 MB ? eta -:--:--\n",
      "   ---------------------------------------- 0.0/38.6 MB ? eta -:--:--\n",
      "   ---------------------------------------- 0.0/38.6 MB 435.7 kB/s eta 0:01:29\n",
      "   ---------------------------------------- 0.3/38.6 MB 2.9 MB/s eta 0:00:14\n",
      "   ---------------------------------------- 0.3/38.6 MB 2.9 MB/s eta 0:00:14\n",
      "    --------------------------------------- 0.8/38.6 MB 4.2 MB/s eta 0:00:09\n",
      "   - -------------------------------------- 1.0/38.6 MB 4.6 MB/s eta 0:00:09\n",
      "   - -------------------------------------- 1.2/38.6 MB 4.3 MB/s eta 0:00:09\n",
      "   - -------------------------------------- 1.9/38.6 MB 6.1 MB/s eta 0:00:06\n",
      "   -- ------------------------------------- 2.0/38.6 MB 6.5 MB/s eta 0:00:06\n",
      "   -- ------------------------------------- 2.5/38.6 MB 6.3 MB/s eta 0:00:06\n",
      "   -- ------------------------------------- 2.8/38.6 MB 6.5 MB/s eta 0:00:06\n",
      "   --- ------------------------------------ 3.2/38.6 MB 6.7 MB/s eta 0:00:06\n",
      "   --- ------------------------------------ 3.4/38.6 MB 6.6 MB/s eta 0:00:06\n",
      "   --- ------------------------------------ 3.8/38.6 MB 6.6 MB/s eta 0:00:06\n",
      "   ---- ----------------------------------- 4.0/38.6 MB 6.5 MB/s eta 0:00:06\n",
      "   ---- ----------------------------------- 4.4/38.6 MB 6.6 MB/s eta 0:00:06\n",
      "   ----- ---------------------------------- 5.0/38.6 MB 6.9 MB/s eta 0:00:05\n",
      "   ----- ---------------------------------- 5.1/38.6 MB 7.1 MB/s eta 0:00:05\n",
      "   ----- ---------------------------------- 5.6/38.6 MB 7.0 MB/s eta 0:00:05\n",
      "   ------ --------------------------------- 5.8/38.6 MB 7.0 MB/s eta 0:00:05\n",
      "   ------ --------------------------------- 6.3/38.6 MB 7.3 MB/s eta 0:00:05\n",
      "   ------ --------------------------------- 6.6/38.6 MB 7.2 MB/s eta 0:00:05\n",
      "   ------ --------------------------------- 6.7/38.6 MB 7.3 MB/s eta 0:00:05\n",
      "   ------- -------------------------------- 7.3/38.6 MB 7.3 MB/s eta 0:00:05\n",
      "   ------- -------------------------------- 7.5/38.6 MB 7.3 MB/s eta 0:00:05\n",
      "   -------- ------------------------------- 8.0/38.6 MB 7.5 MB/s eta 0:00:05\n",
      "   -------- ------------------------------- 8.4/38.6 MB 7.4 MB/s eta 0:00:05\n",
      "   --------- ------------------------------ 8.9/38.6 MB 7.5 MB/s eta 0:00:04\n",
      "   --------- ------------------------------ 9.2/38.6 MB 7.6 MB/s eta 0:00:04\n",
      "   --------- ------------------------------ 9.4/38.6 MB 7.6 MB/s eta 0:00:04\n",
      "   ---------- ----------------------------- 9.8/38.6 MB 7.6 MB/s eta 0:00:04\n",
      "   ---------- ----------------------------- 10.3/38.6 MB 8.0 MB/s eta 0:00:04\n",
      "   ----------- ---------------------------- 10.6/38.6 MB 8.4 MB/s eta 0:00:04\n",
      "   ----------- ---------------------------- 11.0/38.6 MB 8.4 MB/s eta 0:00:04\n",
      "   ----------- ---------------------------- 11.2/38.6 MB 8.3 MB/s eta 0:00:04\n",
      "   ------------ --------------------------- 11.7/38.6 MB 8.4 MB/s eta 0:00:04\n",
      "   ------------ --------------------------- 12.1/38.6 MB 8.2 MB/s eta 0:00:04\n",
      "   ------------ --------------------------- 12.5/38.6 MB 8.3 MB/s eta 0:00:04\n",
      "   ------------- -------------------------- 13.0/38.6 MB 8.3 MB/s eta 0:00:04\n",
      "   ------------- -------------------------- 13.4/38.6 MB 8.4 MB/s eta 0:00:04\n",
      "   -------------- ------------------------- 13.6/38.6 MB 8.4 MB/s eta 0:00:03\n",
      "   -------------- ------------------------- 14.0/38.6 MB 8.8 MB/s eta 0:00:03\n",
      "   -------------- ------------------------- 14.4/38.6 MB 9.0 MB/s eta 0:00:03\n",
      "   --------------- ------------------------ 14.8/38.6 MB 8.7 MB/s eta 0:00:03\n",
      "   --------------- ------------------------ 15.1/38.6 MB 8.7 MB/s eta 0:00:03\n",
      "   ---------------- ----------------------- 15.6/38.6 MB 9.0 MB/s eta 0:00:03\n",
      "   ---------------- ----------------------- 16.1/38.6 MB 9.1 MB/s eta 0:00:03\n",
      "   ---------------- ----------------------- 16.4/38.6 MB 9.0 MB/s eta 0:00:03\n",
      "   ----------------- ---------------------- 16.9/38.6 MB 9.5 MB/s eta 0:00:03\n",
      "   ----------------- ---------------------- 17.3/38.6 MB 9.1 MB/s eta 0:00:03\n",
      "   ------------------ --------------------- 17.8/38.6 MB 9.5 MB/s eta 0:00:03\n",
      "   ------------------ --------------------- 18.1/38.6 MB 9.1 MB/s eta 0:00:03\n",
      "   ------------------- -------------------- 18.6/38.6 MB 9.2 MB/s eta 0:00:03\n",
      "   ------------------- -------------------- 18.9/38.6 MB 9.4 MB/s eta 0:00:03\n",
      "   -------------------- ------------------- 19.6/38.6 MB 9.6 MB/s eta 0:00:02\n",
      "   -------------------- ------------------- 20.0/38.6 MB 9.4 MB/s eta 0:00:02\n",
      "   --------------------- ------------------ 20.3/38.6 MB 9.5 MB/s eta 0:00:02\n",
      "   --------------------- ------------------ 20.9/38.6 MB 9.6 MB/s eta 0:00:02\n",
      "   ---------------------- ----------------- 21.3/38.6 MB 9.5 MB/s eta 0:00:02\n",
      "   ---------------------- ----------------- 21.7/38.6 MB 9.5 MB/s eta 0:00:02\n",
      "   ---------------------- ----------------- 21.9/38.6 MB 9.6 MB/s eta 0:00:02\n",
      "   ----------------------- ---------------- 22.5/38.6 MB 9.8 MB/s eta 0:00:02\n",
      "   ----------------------- ---------------- 22.9/38.6 MB 9.6 MB/s eta 0:00:02\n",
      "   ------------------------ --------------- 23.4/38.6 MB 9.6 MB/s eta 0:00:02\n",
      "   ------------------------ --------------- 23.8/38.6 MB 9.6 MB/s eta 0:00:02\n",
      "   ------------------------- -------------- 24.2/38.6 MB 9.9 MB/s eta 0:00:02\n",
      "   ------------------------- -------------- 24.7/38.6 MB 9.8 MB/s eta 0:00:02\n",
      "   ------------------------- -------------- 25.0/38.6 MB 9.5 MB/s eta 0:00:02\n",
      "   -------------------------- ------------- 25.5/38.6 MB 9.6 MB/s eta 0:00:02\n",
      "   -------------------------- ------------- 25.7/38.6 MB 9.6 MB/s eta 0:00:02\n",
      "   --------------------------- ------------ 26.5/38.6 MB 9.6 MB/s eta 0:00:02\n",
      "   --------------------------- ------------ 26.8/38.6 MB 9.6 MB/s eta 0:00:02\n",
      "   ---------------------------- ----------- 27.5/38.6 MB 9.6 MB/s eta 0:00:02\n",
      "   ---------------------------- ----------- 27.8/38.6 MB 9.6 MB/s eta 0:00:02\n",
      "   ----------------------------- ---------- 28.2/38.6 MB 9.6 MB/s eta 0:00:02\n",
      "   ----------------------------- ---------- 28.7/38.6 MB 9.9 MB/s eta 0:00:01\n",
      "   ------------------------------ --------- 29.1/38.6 MB 9.8 MB/s eta 0:00:01\n",
      "   ------------------------------ --------- 29.5/38.6 MB 9.6 MB/s eta 0:00:01\n",
      "   ------------------------------ --------- 29.9/38.6 MB 9.8 MB/s eta 0:00:01\n",
      "   ------------------------------- -------- 30.5/38.6 MB 9.8 MB/s eta 0:00:01\n",
      "   -------------------------------- ------- 30.9/38.6 MB 9.8 MB/s eta 0:00:01\n",
      "   -------------------------------- ------- 31.4/38.6 MB 9.8 MB/s eta 0:00:01\n",
      "   --------------------------------- ------ 32.0/38.6 MB 9.9 MB/s eta 0:00:01\n",
      "   --------------------------------- ------ 32.2/38.6 MB 9.9 MB/s eta 0:00:01\n",
      "   --------------------------------- ------ 32.5/38.6 MB 9.8 MB/s eta 0:00:01\n",
      "   --------------------------------- ------ 32.8/38.6 MB 9.8 MB/s eta 0:00:01\n",
      "   ---------------------------------- ----- 33.1/38.6 MB 9.4 MB/s eta 0:00:01\n",
      "   ---------------------------------- ----- 33.5/38.6 MB 9.6 MB/s eta 0:00:01\n",
      "   ---------------------------------- ----- 33.7/38.6 MB 9.5 MB/s eta 0:00:01\n",
      "   ----------------------------------- ---- 34.2/38.6 MB 9.4 MB/s eta 0:00:01\n",
      "   ----------------------------------- ---- 34.6/38.6 MB 9.4 MB/s eta 0:00:01\n",
      "   ------------------------------------ --- 35.0/38.6 MB 9.4 MB/s eta 0:00:01\n",
      "   ------------------------------------ --- 35.3/38.6 MB 9.4 MB/s eta 0:00:01\n",
      "   ------------------------------------ --- 35.6/38.6 MB 9.2 MB/s eta 0:00:01\n",
      "   ------------------------------------- -- 36.0/38.6 MB 9.4 MB/s eta 0:00:01\n",
      "   ------------------------------------- -- 36.2/38.6 MB 9.0 MB/s eta 0:00:01\n",
      "   ------------------------------------- -- 36.7/38.6 MB 9.0 MB/s eta 0:00:01\n",
      "   -------------------------------------- - 37.1/38.6 MB 9.1 MB/s eta 0:00:01\n",
      "   -------------------------------------- - 37.4/38.6 MB 8.7 MB/s eta 0:00:01\n",
      "   -------------------------------------- - 37.6/38.6 MB 8.7 MB/s eta 0:00:01\n",
      "   ---------------------------------------  38.2/38.6 MB 9.0 MB/s eta 0:00:01\n",
      "   ---------------------------------------  38.6/38.6 MB 8.8 MB/s eta 0:00:01\n",
      "   ---------------------------------------  38.6/38.6 MB 8.8 MB/s eta 0:00:01\n",
      "   ---------------------------------------- 38.6/38.6 MB 8.1 MB/s eta 0:00:00\n",
      "Installing collected packages: opencv-python\n",
      "Successfully installed opencv-python-4.9.0.80\n"
     ]
    }
   ],
   "source": [
    "!pip install opencv-python"
   ]
  },
  {
   "cell_type": "code",
   "execution_count": 10,
   "metadata": {},
   "outputs": [
    {
     "ename": "error",
     "evalue": "OpenCV(4.9.0) D:\\a\\opencv-python\\opencv-python\\opencv\\modules\\objdetect\\src\\cascadedetect.cpp:1689: error: (-215:Assertion failed) !empty() in function 'cv::CascadeClassifier::detectMultiScale'\n",
     "output_type": "error",
     "traceback": [
      "\u001b[1;31m---------------------------------------------------------------------------\u001b[0m",
      "\u001b[1;31merror\u001b[0m                                     Traceback (most recent call last)",
      "Cell \u001b[1;32mIn[10], line 11\u001b[0m\n\u001b[0;32m      8\u001b[0m \u001b[38;5;28;01mif\u001b[39;00m ret:\n\u001b[0;32m      9\u001b[0m     gray \u001b[38;5;241m=\u001b[39m cv2\u001b[38;5;241m.\u001b[39mcvtColor(frame, cv2\u001b[38;5;241m.\u001b[39mCOLOR_BGR2GRAY)\n\u001b[1;32m---> 11\u001b[0m     faces \u001b[38;5;241m=\u001b[39m face_cascade\u001b[38;5;241m.\u001b[39mdetectMultiScale(gray, scaleFactor\u001b[38;5;241m=\u001b[39m\u001b[38;5;241m1.1\u001b[39m, minNeighbors\u001b[38;5;241m=\u001b[39m\u001b[38;5;241m5\u001b[39m, minSize\u001b[38;5;241m=\u001b[39m(\u001b[38;5;241m30\u001b[39m, \u001b[38;5;241m30\u001b[39m))\n\u001b[0;32m     13\u001b[0m     \u001b[38;5;28;01mfor\u001b[39;00m (x, y, w, h) \u001b[38;5;129;01min\u001b[39;00m faces:\n\u001b[0;32m     14\u001b[0m         cv2\u001b[38;5;241m.\u001b[39mrectangle(frame, (x, y),(x\u001b[38;5;241m+\u001b[39mw, y\u001b[38;5;241m+\u001b[39mh), (\u001b[38;5;241m255\u001b[39m, \u001b[38;5;241m0\u001b[39m, \u001b[38;5;241m0\u001b[39m), \u001b[38;5;241m2\u001b[39m)\n",
      "\u001b[1;31merror\u001b[0m: OpenCV(4.9.0) D:\\a\\opencv-python\\opencv-python\\opencv\\modules\\objdetect\\src\\cascadedetect.cpp:1689: error: (-215:Assertion failed) !empty() in function 'cv::CascadeClassifier::detectMultiScale'\n"
     ]
    }
   ],
   "source": [
    "import cv2\n",
    "import matplotlib.pyplot as plt\n",
    "\n",
    "face_cascade = cv2.CascadeClassifier(cv2.data.haarcascades + '855565-hd_1920_1080_24fps.mp4')\n",
    "cap = cv2.VideoCapture(0)\n",
    "ret, frame = cap.read()\n",
    "\n",
    "if ret:\n",
    "    gray = cv2.cvtColor(frame, cv2.COLOR_BGR2GRAY)\n",
    "    \n",
    "    faces = face_cascade.detectMultiScale(gray, scaleFactor=1.1, minNeighbors=5, minSize=(30, 30))\n",
    "    \n",
    "    for (x, y, w, h) in faces:\n",
    "        cv2.rectangle(frame, (x, y),(x+w, y+h), (255, 0, 0), 2)\n",
    "        \n",
    "        plt.imshow(cv2.cvtColor(frame, cv2.COLOR_BGR2RGB))\n",
    "        plt.axis('off')\n",
    "        plt.show()\n",
    "        \n",
    "    cap.release()\n",
    "    print(\"Number of faces detected:\", len(faces))"
   ]
  },
  {
   "cell_type": "code",
   "execution_count": 28,
   "metadata": {},
   "outputs": [
    {
     "name": "stderr",
     "output_type": "stream",
     "text": [
      "C:\\Users\\Gayatri kulkarni\\AppData\\Local\\Temp\\ipykernel_17268\\2472560608.py:36: UserWarning: frames=None which we can infer the length of, did not pass an explicit *save_count* and passed cache_frame_data=True.  To avoid a possibly unbounded cache, frame data caching has been disabled. To suppress this warning either pass `cache_frame_data=False` or `save_count=MAX_FRAMES`.\n",
      "  ani = animation.FuncAnimation (fig, update, interval=40)\n"
     ]
    },
    {
     "ename": "NameError",
     "evalue": "name 'MAX_FRAMES' is not defined",
     "output_type": "error",
     "traceback": [
      "\u001b[1;31m---------------------------------------------------------------------------\u001b[0m",
      "\u001b[1;31mNameError\u001b[0m                                 Traceback (most recent call last)",
      "Cell \u001b[1;32mIn[28], line 37\u001b[0m\n\u001b[0;32m     35\u001b[0m     cache_frame_data\u001b[38;5;241m=\u001b[39mFalseplot \u001b[38;5;241m=\u001b[39m animation\u001b[38;5;241m.\u001b[39mFuncAnimation(fig, update, frames\u001b[38;5;241m=\u001b[39mdata_gen(a), init_func\u001b[38;5;241m=\u001b[39minit, interval\u001b[38;5;241m=\u001b[39m\u001b[38;5;241m10\u001b[39m, blit\u001b[38;5;241m=\u001b[39m\u001b[38;5;28;01mTrue\u001b[39;00m)  \n\u001b[0;32m     36\u001b[0m ani \u001b[38;5;241m=\u001b[39m animation\u001b[38;5;241m.\u001b[39mFuncAnimation (fig, update, interval\u001b[38;5;241m=\u001b[39m\u001b[38;5;241m40\u001b[39m)\n\u001b[1;32m---> 37\u001b[0m save_count\u001b[38;5;241m=\u001b[39mMAX_FRAMES\n\u001b[0;32m     38\u001b[0m plt\u001b[38;5;241m.\u001b[39mshow()\n\u001b[0;32m     40\u001b[0m cap\u001b[38;5;241m.\u001b[39mrelease()\n",
      "\u001b[1;31mNameError\u001b[0m: name 'MAX_FRAMES' is not defined"
     ]
    },
    {
     "name": "stdout",
     "output_type": "stream",
     "text": [
      "Error in callback <function _draw_all_if_interactive at 0x000002A799D30220> (for post_execute):\n"
     ]
    },
    {
     "ename": "NameError",
     "evalue": "name 'scaleFactor' is not defined",
     "output_type": "error",
     "traceback": [
      "\u001b[1;31m---------------------------------------------------------------------------\u001b[0m",
      "\u001b[1;31mNameError\u001b[0m                                 Traceback (most recent call last)",
      "File \u001b[1;32mC:\\ProgramData\\anaconda3\\Lib\\site-packages\\matplotlib\\pyplot.py:120\u001b[0m, in \u001b[0;36m_draw_all_if_interactive\u001b[1;34m()\u001b[0m\n\u001b[0;32m    118\u001b[0m \u001b[38;5;28;01mdef\u001b[39;00m \u001b[38;5;21m_draw_all_if_interactive\u001b[39m():\n\u001b[0;32m    119\u001b[0m     \u001b[38;5;28;01mif\u001b[39;00m matplotlib\u001b[38;5;241m.\u001b[39mis_interactive():\n\u001b[1;32m--> 120\u001b[0m         draw_all()\n",
      "File \u001b[1;32mC:\\ProgramData\\anaconda3\\Lib\\site-packages\\matplotlib\\_pylab_helpers.py:132\u001b[0m, in \u001b[0;36mGcf.draw_all\u001b[1;34m(cls, force)\u001b[0m\n\u001b[0;32m    130\u001b[0m \u001b[38;5;28;01mfor\u001b[39;00m manager \u001b[38;5;129;01min\u001b[39;00m \u001b[38;5;28mcls\u001b[39m\u001b[38;5;241m.\u001b[39mget_all_fig_managers():\n\u001b[0;32m    131\u001b[0m     \u001b[38;5;28;01mif\u001b[39;00m force \u001b[38;5;129;01mor\u001b[39;00m manager\u001b[38;5;241m.\u001b[39mcanvas\u001b[38;5;241m.\u001b[39mfigure\u001b[38;5;241m.\u001b[39mstale:\n\u001b[1;32m--> 132\u001b[0m         manager\u001b[38;5;241m.\u001b[39mcanvas\u001b[38;5;241m.\u001b[39mdraw_idle()\n",
      "File \u001b[1;32mC:\\ProgramData\\anaconda3\\Lib\\site-packages\\matplotlib\\backend_bases.py:2082\u001b[0m, in \u001b[0;36mFigureCanvasBase.draw_idle\u001b[1;34m(self, *args, **kwargs)\u001b[0m\n\u001b[0;32m   2080\u001b[0m \u001b[38;5;28;01mif\u001b[39;00m \u001b[38;5;129;01mnot\u001b[39;00m \u001b[38;5;28mself\u001b[39m\u001b[38;5;241m.\u001b[39m_is_idle_drawing:\n\u001b[0;32m   2081\u001b[0m     \u001b[38;5;28;01mwith\u001b[39;00m \u001b[38;5;28mself\u001b[39m\u001b[38;5;241m.\u001b[39m_idle_draw_cntx():\n\u001b[1;32m-> 2082\u001b[0m         \u001b[38;5;28mself\u001b[39m\u001b[38;5;241m.\u001b[39mdraw(\u001b[38;5;241m*\u001b[39margs, \u001b[38;5;241m*\u001b[39m\u001b[38;5;241m*\u001b[39mkwargs)\n",
      "File \u001b[1;32mC:\\ProgramData\\anaconda3\\Lib\\site-packages\\matplotlib\\backends\\backend_agg.py:400\u001b[0m, in \u001b[0;36mFigureCanvasAgg.draw\u001b[1;34m(self)\u001b[0m\n\u001b[0;32m    396\u001b[0m \u001b[38;5;66;03m# Acquire a lock on the shared font cache.\u001b[39;00m\n\u001b[0;32m    397\u001b[0m \u001b[38;5;28;01mwith\u001b[39;00m RendererAgg\u001b[38;5;241m.\u001b[39mlock, \\\n\u001b[0;32m    398\u001b[0m      (\u001b[38;5;28mself\u001b[39m\u001b[38;5;241m.\u001b[39mtoolbar\u001b[38;5;241m.\u001b[39m_wait_cursor_for_draw_cm() \u001b[38;5;28;01mif\u001b[39;00m \u001b[38;5;28mself\u001b[39m\u001b[38;5;241m.\u001b[39mtoolbar\n\u001b[0;32m    399\u001b[0m       \u001b[38;5;28;01melse\u001b[39;00m nullcontext()):\n\u001b[1;32m--> 400\u001b[0m     \u001b[38;5;28mself\u001b[39m\u001b[38;5;241m.\u001b[39mfigure\u001b[38;5;241m.\u001b[39mdraw(\u001b[38;5;28mself\u001b[39m\u001b[38;5;241m.\u001b[39mrenderer)\n\u001b[0;32m    401\u001b[0m     \u001b[38;5;66;03m# A GUI class may be need to update a window using this draw, so\u001b[39;00m\n\u001b[0;32m    402\u001b[0m     \u001b[38;5;66;03m# don't forget to call the superclass.\u001b[39;00m\n\u001b[0;32m    403\u001b[0m     \u001b[38;5;28msuper\u001b[39m()\u001b[38;5;241m.\u001b[39mdraw()\n",
      "File \u001b[1;32mC:\\ProgramData\\anaconda3\\Lib\\site-packages\\matplotlib\\artist.py:95\u001b[0m, in \u001b[0;36m_finalize_rasterization.<locals>.draw_wrapper\u001b[1;34m(artist, renderer, *args, **kwargs)\u001b[0m\n\u001b[0;32m     93\u001b[0m \u001b[38;5;129m@wraps\u001b[39m(draw)\n\u001b[0;32m     94\u001b[0m \u001b[38;5;28;01mdef\u001b[39;00m \u001b[38;5;21mdraw_wrapper\u001b[39m(artist, renderer, \u001b[38;5;241m*\u001b[39margs, \u001b[38;5;241m*\u001b[39m\u001b[38;5;241m*\u001b[39mkwargs):\n\u001b[1;32m---> 95\u001b[0m     result \u001b[38;5;241m=\u001b[39m draw(artist, renderer, \u001b[38;5;241m*\u001b[39margs, \u001b[38;5;241m*\u001b[39m\u001b[38;5;241m*\u001b[39mkwargs)\n\u001b[0;32m     96\u001b[0m     \u001b[38;5;28;01mif\u001b[39;00m renderer\u001b[38;5;241m.\u001b[39m_rasterizing:\n\u001b[0;32m     97\u001b[0m         renderer\u001b[38;5;241m.\u001b[39mstop_rasterizing()\n",
      "File \u001b[1;32mC:\\ProgramData\\anaconda3\\Lib\\site-packages\\matplotlib\\artist.py:72\u001b[0m, in \u001b[0;36mallow_rasterization.<locals>.draw_wrapper\u001b[1;34m(artist, renderer)\u001b[0m\n\u001b[0;32m     69\u001b[0m     \u001b[38;5;28;01mif\u001b[39;00m artist\u001b[38;5;241m.\u001b[39mget_agg_filter() \u001b[38;5;129;01mis\u001b[39;00m \u001b[38;5;129;01mnot\u001b[39;00m \u001b[38;5;28;01mNone\u001b[39;00m:\n\u001b[0;32m     70\u001b[0m         renderer\u001b[38;5;241m.\u001b[39mstart_filter()\n\u001b[1;32m---> 72\u001b[0m     \u001b[38;5;28;01mreturn\u001b[39;00m draw(artist, renderer)\n\u001b[0;32m     73\u001b[0m \u001b[38;5;28;01mfinally\u001b[39;00m:\n\u001b[0;32m     74\u001b[0m     \u001b[38;5;28;01mif\u001b[39;00m artist\u001b[38;5;241m.\u001b[39mget_agg_filter() \u001b[38;5;129;01mis\u001b[39;00m \u001b[38;5;129;01mnot\u001b[39;00m \u001b[38;5;28;01mNone\u001b[39;00m:\n",
      "File \u001b[1;32mC:\\ProgramData\\anaconda3\\Lib\\site-packages\\matplotlib\\figure.py:3185\u001b[0m, in \u001b[0;36mFigure.draw\u001b[1;34m(self, renderer)\u001b[0m\n\u001b[0;32m   3182\u001b[0m \u001b[38;5;28;01mfinally\u001b[39;00m:\n\u001b[0;32m   3183\u001b[0m     \u001b[38;5;28mself\u001b[39m\u001b[38;5;241m.\u001b[39mstale \u001b[38;5;241m=\u001b[39m \u001b[38;5;28;01mFalse\u001b[39;00m\n\u001b[1;32m-> 3185\u001b[0m DrawEvent(\u001b[38;5;124m\"\u001b[39m\u001b[38;5;124mdraw_event\u001b[39m\u001b[38;5;124m\"\u001b[39m, \u001b[38;5;28mself\u001b[39m\u001b[38;5;241m.\u001b[39mcanvas, renderer)\u001b[38;5;241m.\u001b[39m_process()\n",
      "File \u001b[1;32mC:\\ProgramData\\anaconda3\\Lib\\site-packages\\matplotlib\\backend_bases.py:1263\u001b[0m, in \u001b[0;36mEvent._process\u001b[1;34m(self)\u001b[0m\n\u001b[0;32m   1261\u001b[0m \u001b[38;5;28;01mdef\u001b[39;00m \u001b[38;5;21m_process\u001b[39m(\u001b[38;5;28mself\u001b[39m):\n\u001b[0;32m   1262\u001b[0m \u001b[38;5;250m    \u001b[39m\u001b[38;5;124;03m\"\"\"Generate an event with name ``self.name`` on ``self.canvas``.\"\"\"\u001b[39;00m\n\u001b[1;32m-> 1263\u001b[0m     \u001b[38;5;28mself\u001b[39m\u001b[38;5;241m.\u001b[39mcanvas\u001b[38;5;241m.\u001b[39mcallbacks\u001b[38;5;241m.\u001b[39mprocess(\u001b[38;5;28mself\u001b[39m\u001b[38;5;241m.\u001b[39mname, \u001b[38;5;28mself\u001b[39m)\n",
      "File \u001b[1;32mC:\\ProgramData\\anaconda3\\Lib\\site-packages\\matplotlib\\cbook\\__init__.py:314\u001b[0m, in \u001b[0;36mCallbackRegistry.process\u001b[1;34m(self, s, *args, **kwargs)\u001b[0m\n\u001b[0;32m    312\u001b[0m \u001b[38;5;28;01mexcept\u001b[39;00m \u001b[38;5;167;01mException\u001b[39;00m \u001b[38;5;28;01mas\u001b[39;00m exc:\n\u001b[0;32m    313\u001b[0m     \u001b[38;5;28;01mif\u001b[39;00m \u001b[38;5;28mself\u001b[39m\u001b[38;5;241m.\u001b[39mexception_handler \u001b[38;5;129;01mis\u001b[39;00m \u001b[38;5;129;01mnot\u001b[39;00m \u001b[38;5;28;01mNone\u001b[39;00m:\n\u001b[1;32m--> 314\u001b[0m         \u001b[38;5;28mself\u001b[39m\u001b[38;5;241m.\u001b[39mexception_handler(exc)\n\u001b[0;32m    315\u001b[0m     \u001b[38;5;28;01melse\u001b[39;00m:\n\u001b[0;32m    316\u001b[0m         \u001b[38;5;28;01mraise\u001b[39;00m\n",
      "File \u001b[1;32mC:\\ProgramData\\anaconda3\\Lib\\site-packages\\matplotlib\\cbook\\__init__.py:98\u001b[0m, in \u001b[0;36m_exception_printer\u001b[1;34m(exc)\u001b[0m\n\u001b[0;32m     96\u001b[0m \u001b[38;5;28;01mdef\u001b[39;00m \u001b[38;5;21m_exception_printer\u001b[39m(exc):\n\u001b[0;32m     97\u001b[0m     \u001b[38;5;28;01mif\u001b[39;00m _get_running_interactive_framework() \u001b[38;5;129;01min\u001b[39;00m [\u001b[38;5;124m\"\u001b[39m\u001b[38;5;124mheadless\u001b[39m\u001b[38;5;124m\"\u001b[39m, \u001b[38;5;28;01mNone\u001b[39;00m]:\n\u001b[1;32m---> 98\u001b[0m         \u001b[38;5;28;01mraise\u001b[39;00m exc\n\u001b[0;32m     99\u001b[0m     \u001b[38;5;28;01melse\u001b[39;00m:\n\u001b[0;32m    100\u001b[0m         traceback\u001b[38;5;241m.\u001b[39mprint_exc()\n",
      "File \u001b[1;32mC:\\ProgramData\\anaconda3\\Lib\\site-packages\\matplotlib\\cbook\\__init__.py:309\u001b[0m, in \u001b[0;36mCallbackRegistry.process\u001b[1;34m(self, s, *args, **kwargs)\u001b[0m\n\u001b[0;32m    307\u001b[0m \u001b[38;5;28;01mif\u001b[39;00m func \u001b[38;5;129;01mis\u001b[39;00m \u001b[38;5;129;01mnot\u001b[39;00m \u001b[38;5;28;01mNone\u001b[39;00m:\n\u001b[0;32m    308\u001b[0m     \u001b[38;5;28;01mtry\u001b[39;00m:\n\u001b[1;32m--> 309\u001b[0m         func(\u001b[38;5;241m*\u001b[39margs, \u001b[38;5;241m*\u001b[39m\u001b[38;5;241m*\u001b[39mkwargs)\n\u001b[0;32m    310\u001b[0m     \u001b[38;5;66;03m# this does not capture KeyboardInterrupt, SystemExit,\u001b[39;00m\n\u001b[0;32m    311\u001b[0m     \u001b[38;5;66;03m# and GeneratorExit\u001b[39;00m\n\u001b[0;32m    312\u001b[0m     \u001b[38;5;28;01mexcept\u001b[39;00m \u001b[38;5;167;01mException\u001b[39;00m \u001b[38;5;28;01mas\u001b[39;00m exc:\n",
      "File \u001b[1;32mC:\\ProgramData\\anaconda3\\Lib\\site-packages\\matplotlib\\animation.py:904\u001b[0m, in \u001b[0;36mAnimation._start\u001b[1;34m(self, *args)\u001b[0m\n\u001b[0;32m    901\u001b[0m \u001b[38;5;28mself\u001b[39m\u001b[38;5;241m.\u001b[39m_fig\u001b[38;5;241m.\u001b[39mcanvas\u001b[38;5;241m.\u001b[39mmpl_disconnect(\u001b[38;5;28mself\u001b[39m\u001b[38;5;241m.\u001b[39m_first_draw_id)\n\u001b[0;32m    903\u001b[0m \u001b[38;5;66;03m# Now do any initial draw\u001b[39;00m\n\u001b[1;32m--> 904\u001b[0m \u001b[38;5;28mself\u001b[39m\u001b[38;5;241m.\u001b[39m_init_draw()\n\u001b[0;32m    906\u001b[0m \u001b[38;5;66;03m# Add our callback for stepping the animation and\u001b[39;00m\n\u001b[0;32m    907\u001b[0m \u001b[38;5;66;03m# actually start the event_source.\u001b[39;00m\n\u001b[0;32m    908\u001b[0m \u001b[38;5;28mself\u001b[39m\u001b[38;5;241m.\u001b[39mevent_source\u001b[38;5;241m.\u001b[39madd_callback(\u001b[38;5;28mself\u001b[39m\u001b[38;5;241m.\u001b[39m_step)\n",
      "File \u001b[1;32mC:\\ProgramData\\anaconda3\\Lib\\site-packages\\matplotlib\\animation.py:1748\u001b[0m, in \u001b[0;36mFuncAnimation._init_draw\u001b[1;34m(self)\u001b[0m\n\u001b[0;32m   1740\u001b[0m         warnings\u001b[38;5;241m.\u001b[39mwarn(\n\u001b[0;32m   1741\u001b[0m             \u001b[38;5;124m\"\u001b[39m\u001b[38;5;124mCan not start iterating the frames for the initial draw. \u001b[39m\u001b[38;5;124m\"\u001b[39m\n\u001b[0;32m   1742\u001b[0m             \u001b[38;5;124m\"\u001b[39m\u001b[38;5;124mThis can be caused by passing in a 0 length sequence \u001b[39m\u001b[38;5;124m\"\u001b[39m\n\u001b[1;32m   (...)\u001b[0m\n\u001b[0;32m   1745\u001b[0m             \u001b[38;5;124m\"\u001b[39m\u001b[38;5;124mit may be exhausted due to a previous display or save.\u001b[39m\u001b[38;5;124m\"\u001b[39m\n\u001b[0;32m   1746\u001b[0m         )\n\u001b[0;32m   1747\u001b[0m         \u001b[38;5;28;01mreturn\u001b[39;00m\n\u001b[1;32m-> 1748\u001b[0m     \u001b[38;5;28mself\u001b[39m\u001b[38;5;241m.\u001b[39m_draw_frame(frame_data)\n\u001b[0;32m   1749\u001b[0m \u001b[38;5;28;01melse\u001b[39;00m:\n\u001b[0;32m   1750\u001b[0m     \u001b[38;5;28mself\u001b[39m\u001b[38;5;241m.\u001b[39m_drawn_artists \u001b[38;5;241m=\u001b[39m \u001b[38;5;28mself\u001b[39m\u001b[38;5;241m.\u001b[39m_init_func()\n",
      "File \u001b[1;32mC:\\ProgramData\\anaconda3\\Lib\\site-packages\\matplotlib\\animation.py:1767\u001b[0m, in \u001b[0;36mFuncAnimation._draw_frame\u001b[1;34m(self, framedata)\u001b[0m\n\u001b[0;32m   1763\u001b[0m     \u001b[38;5;28mself\u001b[39m\u001b[38;5;241m.\u001b[39m_save_seq \u001b[38;5;241m=\u001b[39m \u001b[38;5;28mself\u001b[39m\u001b[38;5;241m.\u001b[39m_save_seq[\u001b[38;5;241m-\u001b[39m\u001b[38;5;28mself\u001b[39m\u001b[38;5;241m.\u001b[39m_save_count:]\n\u001b[0;32m   1765\u001b[0m \u001b[38;5;66;03m# Call the func with framedata and args. If blitting is desired,\u001b[39;00m\n\u001b[0;32m   1766\u001b[0m \u001b[38;5;66;03m# func needs to return a sequence of any artists that were modified.\u001b[39;00m\n\u001b[1;32m-> 1767\u001b[0m \u001b[38;5;28mself\u001b[39m\u001b[38;5;241m.\u001b[39m_drawn_artists \u001b[38;5;241m=\u001b[39m \u001b[38;5;28mself\u001b[39m\u001b[38;5;241m.\u001b[39m_func(framedata, \u001b[38;5;241m*\u001b[39m\u001b[38;5;28mself\u001b[39m\u001b[38;5;241m.\u001b[39m_args)\n\u001b[0;32m   1769\u001b[0m \u001b[38;5;28;01mif\u001b[39;00m \u001b[38;5;28mself\u001b[39m\u001b[38;5;241m.\u001b[39m_blit:\n\u001b[0;32m   1771\u001b[0m     err \u001b[38;5;241m=\u001b[39m \u001b[38;5;167;01mRuntimeError\u001b[39;00m(\u001b[38;5;124m'\u001b[39m\u001b[38;5;124mThe animation function must return a sequence \u001b[39m\u001b[38;5;124m'\u001b[39m\n\u001b[0;32m   1772\u001b[0m                        \u001b[38;5;124m'\u001b[39m\u001b[38;5;124mof Artist objects.\u001b[39m\u001b[38;5;124m'\u001b[39m)\n",
      "Cell \u001b[1;32mIn[28], line 29\u001b[0m, in \u001b[0;36mupdate\u001b[1;34m(frame)\u001b[0m\n\u001b[0;32m     26\u001b[0m     ani\u001b[38;5;241m.\u001b[39mevent_source\u001b[38;5;241m.\u001b[39mstop()\n\u001b[0;32m     27\u001b[0m     \u001b[38;5;28;01mreturn\u001b[39;00m\n\u001b[1;32m---> 29\u001b[0m frame_with_pedestrians \u001b[38;5;241m=\u001b[39m detect_pedestrians(frame)\n\u001b[0;32m     31\u001b[0m ax\u001b[38;5;241m.\u001b[39mclear()\n\u001b[0;32m     32\u001b[0m ax\u001b[38;5;241m.\u001b[39mimshow(cv2\u001b[38;5;241m.\u001b[39mcvtColor(frame_with_pedestrians,cv2\u001b[38;5;241m.\u001b[39mCOLOR_BGR2RGB)) \n",
      "Cell \u001b[1;32mIn[28], line 16\u001b[0m, in \u001b[0;36mdetect_pedestrians\u001b[1;34m(frame)\u001b[0m\n\u001b[0;32m     14\u001b[0m \u001b[38;5;28;01mdef\u001b[39;00m \u001b[38;5;21mdetect_pedestrians\u001b[39m (frame) :\n\u001b[0;32m     15\u001b[0m     gray_frame \u001b[38;5;241m=\u001b[39m cv2\u001b[38;5;241m.\u001b[39mcvtColor(frame, cv2\u001b[38;5;241m.\u001b[39mCOLOR_BGR2GRAY)\n\u001b[1;32m---> 16\u001b[0m     pedestrains \u001b[38;5;241m=\u001b[39m pedestrian_cascade\u001b[38;5;241m.\u001b[39mdetectMultiScale(gray_frame, scaleFactor\u001b[38;5;241m-\u001b[39m\u001b[38;5;241m1.5\u001b[39m, minNeighbors\u001b[38;5;241m=\u001b[39m\u001b[38;5;241m8\u001b[39m, minSize\u001b[38;5;241m=\u001b[39m(\u001b[38;5;241m20\u001b[39m,\u001b[38;5;241m20\u001b[39m)) \n\u001b[0;32m     17\u001b[0m     \u001b[38;5;28;01mfor\u001b[39;00m (x,y,w,h) \u001b[38;5;129;01min\u001b[39;00m pedestrains:\n\u001b[0;32m     18\u001b[0m         cv2\u001b[38;5;241m.\u001b[39mrectangle (frame, (x, y), (x\u001b[38;5;241m+\u001b[39mw, y\u001b[38;5;241m+\u001b[39mh), (\u001b[38;5;241m0\u001b[39m,\u001b[38;5;241m255\u001b[39m,\u001b[38;5;241m0\u001b[39m), \u001b[38;5;241m2\u001b[39m)\n",
      "\u001b[1;31mNameError\u001b[0m: name 'scaleFactor' is not defined"
     ]
    },
    {
     "data": {
      "image/png": "[encoded data removed]",
      "text/plain": [
       "<Figure size 640x480 with 1 Axes>"
      ]
     },
     "metadata": {},
     "output_type": "display_data"
    }
   ],
   "source": []
  },
  {
   "cell_type": "code",
   "execution_count": null,
   "metadata": {},
   "outputs": [],
   "source": []
  },
  {
   "cell_type": "code",
   "execution_count": null,
   "metadata": {},
   "outputs": [],
   "source": []
  }
 ],
 "metadata": {
  "kernelspec": {
   "display_name": "Python 3",
   "language": "python",
   "name": "python3"
  },
  "language_info": {
   "codemirror_mode": {
    "name": "ipython",
    "version": 3
   },
   "file_extension": ".py",
   "mimetype": "text/x-python",
   "name": "python",
   "nbconvert_exporter": "python",
   "pygments_lexer": "ipython3",
   "version": "3.7.1"
  }
 },
 "nbformat": 4,
 "nbformat_minor": 5
}
