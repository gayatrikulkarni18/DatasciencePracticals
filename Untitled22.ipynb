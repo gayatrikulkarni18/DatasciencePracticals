{
 "cells": [
  {
   "cell_type": "code",
   "execution_count": 1,
   "metadata": {},
   "outputs": [
    {
     "name": "stdout",
     "output_type": "stream",
     "text": [
      "Collecting geopy\n",
      "  Downloading https://files.pythonhosted.org/packages/e5/15/cf2a69ade4b194aa524ac75112d5caac37414b20a3a03e6865dfe0bd1539/geopy-2.4.1-py3-none-any.whl (125kB)\n",
      "Collecting geographiclib<3,>=1.52 (from geopy)\n",
      "  Downloading https://files.pythonhosted.org/packages/9f/5a/a26132406f1f40cf51ea349a5f11b0a46cec02a2031ff82e391c2537247a/geographiclib-2.0-py3-none-any.whl (40kB)\n",
      "Installing collected packages: geographiclib, geopy\n",
      "Successfully installed geographiclib-2.0 geopy-2.4.1\n"
     ]
    },
    {
     "ename": "ModuleNotFoundError",
     "evalue": "No module named 'pandas.compat'",
     "output_type": "error",
     "traceback": [
      "\u001b[1;31m---------------------------------------------------------------------------\u001b[0m",
      "\u001b[1;31mModuleNotFoundError\u001b[0m                       Traceback (most recent call last)",
      "\u001b[1;32m<ipython-input-1-70c3db1a2012>\u001b[0m in \u001b[0;36m<module>\u001b[1;34m\u001b[0m\n\u001b[0;32m      1\u001b[0m \u001b[0mget_ipython\u001b[0m\u001b[1;33m(\u001b[0m\u001b[1;33m)\u001b[0m\u001b[1;33m.\u001b[0m\u001b[0msystem\u001b[0m\u001b[1;33m(\u001b[0m\u001b[1;34m'pip install geopy --user'\u001b[0m\u001b[1;33m)\u001b[0m\u001b[1;33m\u001b[0m\u001b[1;33m\u001b[0m\u001b[0m\n\u001b[1;32m----> 2\u001b[1;33m \u001b[1;32mimport\u001b[0m \u001b[0mpandas\u001b[0m \u001b[1;32mas\u001b[0m \u001b[0mpd\u001b[0m\u001b[1;33m\u001b[0m\u001b[1;33m\u001b[0m\u001b[0m\n\u001b[0m\u001b[0;32m      3\u001b[0m \u001b[1;32mfrom\u001b[0m \u001b[0mgeopy\u001b[0m\u001b[1;33m.\u001b[0m\u001b[0mgeocoders\u001b[0m \u001b[1;32mimport\u001b[0m \u001b[0mNominatim\u001b[0m\u001b[1;33m\u001b[0m\u001b[1;33m\u001b[0m\u001b[0m\n\u001b[0;32m      4\u001b[0m \u001b[0mgeolocator\u001b[0m \u001b[1;33m=\u001b[0m \u001b[0mNominatim\u001b[0m\u001b[1;33m(\u001b[0m\u001b[1;33m)\u001b[0m\u001b[1;33m\u001b[0m\u001b[1;33m\u001b[0m\u001b[0m\n\u001b[0;32m      5\u001b[0m \u001b[0mInputDir\u001b[0m\u001b[1;33m=\u001b[0m\u001b[1;34m'01-Retrieve/01-EDS/01-R'\u001b[0m\u001b[1;33m\u001b[0m\u001b[1;33m\u001b[0m\u001b[0m\n",
      "\u001b[1;32mD:\\Anaconda\\lib\\site-packages\\pandas\\__init__.py\u001b[0m in \u001b[0;36m<module>\u001b[1;34m\u001b[0m\n\u001b[0;32m     21\u001b[0m \u001b[1;33m\u001b[0m\u001b[0m\n\u001b[0;32m     22\u001b[0m \u001b[1;31m# numpy compat\u001b[0m\u001b[1;33m\u001b[0m\u001b[1;33m\u001b[0m\u001b[1;33m\u001b[0m\u001b[0m\n\u001b[1;32m---> 23\u001b[1;33m \u001b[1;32mfrom\u001b[0m \u001b[0mpandas\u001b[0m\u001b[1;33m.\u001b[0m\u001b[0mcompat\u001b[0m\u001b[1;33m.\u001b[0m\u001b[0mnumpy\u001b[0m \u001b[1;32mimport\u001b[0m \u001b[1;33m*\u001b[0m\u001b[1;33m\u001b[0m\u001b[1;33m\u001b[0m\u001b[0m\n\u001b[0m\u001b[0;32m     24\u001b[0m \u001b[1;33m\u001b[0m\u001b[0m\n\u001b[0;32m     25\u001b[0m \u001b[1;32mtry\u001b[0m\u001b[1;33m:\u001b[0m\u001b[1;33m\u001b[0m\u001b[1;33m\u001b[0m\u001b[0m\n",
      "\u001b[1;31mModuleNotFoundError\u001b[0m: No module named 'pandas.compat'"
     ]
    }
   ],
   "source": [
    "!pip install geopy --user\n",
    "import pandas as pd\n",
    "from geopy.geocoders import Nominatim\n",
    "geolocator = Nominatim()\n",
    "InputDir='01-Retrieve/01-EDS/01-R'\n",
    "InputFileName='Retrieve_GB_Postcode_ Warehouse.csv'\n",
    "EDSDir='02-Assess/01-EDS'\n",
    "OutputDir=EDSDir + '/02-Python'\n",
    "OutputFileName='Assess_GB_Warehouse_Address.csv'\n",
    "Company='03-Hillman'\n",
    "Base='D:/DSPrac/practical-data-science-master/VKHCG'\n",
    "sFileDir=Base +'/'+Company+'/'+ EDSDir\n",
    "sFileName=Base +'/'+Company+'/'+ InputDir + '/' + InputFileName\n",
    "print('###########')\n",
    "print('Loading :',sFileName)\n",
    "Warehouse=pd.read_csv(sFileName,header=0,low_memory=False)\n",
    "Warehouse.sort_values(by='postcode', ascending= 1)\n",
    "WarehouseGoodHead=Warehouse[Warehouse.latitude != 0].head(5)\n",
    "WarehouseGoodTail=Warehouse[Warehouse.latitude != 0].tail(5)\n",
    "WarehouseGoodHead['Warehouse_Point']=WarehouseGoodHead.apply(lambda row: (str(row['latitude'])+','+str(row['longitude'])),axis=1)\n",
    "WarehouseGoodHead['Warehouse_Address']=WarehouseGoodHead.apply(lambda row: geolocator.reverse(row['Warehouse_Point']).address,axis=1)\n",
    "WarehouseGoodHead.drop('Warehouse_Point', axis=1, inplace=True)\n",
    "WarehouseGoodHead.drop('id', axis=1, inplace=True)\n",
    "WarehouseGoodHead.drop('postcode', axis=1, inplace=True)\n",
    "WarehouseGoodTail['Warehouse_Point']=WarehouseGoodTail.apply(lambda row: (str(row['latitude'])+','+str(row['longitude'])),axis=1)\n",
    "WarehouseGoodTail['Warehouse_Address']=WarehouseGoodTail.apply(lambda row:\n",
    "geolocator.reverse(row['Warehouse_Point']).address,axis=1)\n",
    "WarehouseGoodTail.drop('Warehouse_Point', axis=1, inplace=True)\n",
    "WarehouseGoodTail.drop('id', axis=1, inplace=True)\n",
    "WarehouseGoodTail.drop('postcode', axis=1, inplace=True)\n",
    "WarehouseGood=WarehouseGoodHead.append(WarehouseGoodTail, ignore_index=True)\n",
    "print(WarehouseGood)\n",
    "sFileName=sFileDir + '/' + OutputFileName\n",
    "WarehouseGood.to_csv(sFileName, index= False)\n",
    "print('Done!!')\n"
   ]
  },
  {
   "cell_type": "code",
   "execution_count": null,
   "metadata": {},
   "outputs": [],
   "source": []
  }
 ],
 "metadata": {
  "kernelspec": {
   "display_name": "Python 3",
   "language": "python",
   "name": "python3"
  },
  "language_info": {
   "codemirror_mode": {
    "name": "ipython",
    "version": 3
   },
   "file_extension": ".py",
   "mimetype": "text/x-python",
   "name": "python",
   "nbconvert_exporter": "python",
   "pygments_lexer": "ipython3",
   "version": "3.7.1"
  }
 },
 "nbformat": 4,
 "nbformat_minor": 2
}
