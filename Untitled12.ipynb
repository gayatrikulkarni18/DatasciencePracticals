{
 "cells": [
  {
   "cell_type": "code",
   "execution_count": null,
   "metadata": {},
   "outputs": [],
   "source": [
    "import random\n",
    "import matplotlib.pyplot as plt\n",
    "#Genetic Algorithm parameters\n",
    "POPULATION_SIZE = 20\n",
    "GENES = ['0','1']\n",
    "#TARGET_CITY =\"110010101001110\" #Define the target city sequence\n",
    "TARGET_CITY =\"110010101001110\" #More complex target city sequence\n",
    "MUTATION_RATE = 0.1\n",
    "\n",
    "#Define a fitness function\n",
    "def calculate_fitness(chromosome):\n",
    "    fitness = summ(1 for a, b in zip(chromosome, TARGET_CITY)if a ==b)\n",
    "    return fitness\n",
    "#Create initial population\n",
    "def create_population(population_size, genes, target_city):\n",
    "    population = []\n",
    "    for _ in range(population_size):\n",
    "        chromosome = ''.join(random.choice(genes) for _ in range(len(target_city)))\n",
    "        population.append(chromosome)\n",
    "    return population\n",
    "#Apply mutation to the population\n",
    "def mutate_population(population, mutation_rate):\n",
    "    for i in range(len(population)):\n",
    "        if random.random() < mutation_rate:\n",
    "            idx = random.randint(0, len(population[i]) - 1)\n",
    "            population[i] = population[i][:idx] + random.choice(GENES) + population[i][:idx+1:]\n",
    "    return population\n",
    "#Perform selection using tournament selection\n",
    "def tournament_selection(population, fitness_values, k=3):\n",
    "    selected = []\n",
    "    for - in range(len(population)):\n",
    "        participants = random.sample(list(enumerate(fitness_values)), k)\n",
    "        winner = max(participants, key=lambda x: x[1])[0]\n",
    "        selected.append(population[winner])\n",
    "    return selected\n"
   ]
  }
 ],
 "metadata": {
  "kernelspec": {
   "display_name": "Python 3",
   "language": "python",
   "name": "python3"
  },
  "language_info": {
   "codemirror_mode": {
    "name": "ipython",
    "version": 3
   },
   "file_extension": ".py",
   "mimetype": "text/x-python",
   "name": "python",
   "nbconvert_exporter": "python",
   "pygments_lexer": "ipython3",
   "version": "3.7.1"
  }
 },
 "nbformat": 4,
 "nbformat_minor": 2
}
