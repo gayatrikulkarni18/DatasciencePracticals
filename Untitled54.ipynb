{
 "cells": [
  {
   "cell_type": "code",
   "execution_count": 2,
   "metadata": {},
   "outputs": [
    {
     "name": "stdout",
     "output_type": "stream",
     "text": [
      "Collecting psychtoolbox\n",
      "  Downloading https://files.pythonhosted.org/packages/99/ef/cf52f5f3751acbb572b05b7ead294d0d6e5503ec71cde7b272f7371eaa56/psychtoolbox-3.0.19.0.tar.gz (3.1MB)\n",
      "  Installing build dependencies: started\n",
      "  Installing build dependencies: finished with status 'done'\n",
      "    Complete output from command python setup.py egg_info:\n",
      "    Traceback (most recent call last):\n",
      "      File \"<string>\", line 1, in <module>\n",
      "      File \"C:\\Users\\GAYATR~1\\AppData\\Local\\Temp\\pip-build-env-wvlq3dv9\\Lib\\site-packages\\setuptools\\__init__.py\", line 15, in <module>\n",
      "        import setuptools.version\n",
      "      File \"C:\\Users\\GAYATR~1\\AppData\\Local\\Temp\\pip-build-env-wvlq3dv9\\Lib\\site-packages\\setuptools\\version.py\", line 1, in <module>\n",
      "        from ._importlib import metadata\n",
      "      File \"C:\\Users\\GAYATR~1\\AppData\\Local\\Temp\\pip-build-env-wvlq3dv9\\Lib\\site-packages\\setuptools\\_importlib.py\", line 42, in <module>\n",
      "        disable_importlib_metadata_finder(metadata)\n",
      "      File \"C:\\Users\\GAYATR~1\\AppData\\Local\\Temp\\pip-build-env-wvlq3dv9\\Lib\\site-packages\\setuptools\\_importlib.py\", line 33, in disable_importlib_metadata_finder\n",
      "        for ob in sys.meta_path\n",
      "      File \"C:\\Users\\GAYATR~1\\AppData\\Local\\Temp\\pip-build-env-wvlq3dv9\\Lib\\site-packages\\setuptools\\_importlib.py\", line 34, in <listcomp>\n",
      "        if isinstance(ob, importlib_metadata.MetadataPathFinder)\n",
      "    AttributeError: module 'importlib_metadata' has no attribute 'MetadataPathFinder'\n",
      "    \n",
      "    ----------------------------------------\n"
     ]
    },
    {
     "name": "stderr",
     "output_type": "stream",
     "text": [
      "Command \"python setup.py egg_info\" failed with error code 1 in C:\\Users\\GAYATR~1\\AppData\\Local\\Temp\\pip-install-zvi4k2jm\\psychtoolbox\\\n"
     ]
    }
   ],
   "source": []
  },
  {
   "cell_type": "code",
   "execution_count": 3,
   "metadata": {},
   "outputs": [
    {
     "name": "stdout",
     "output_type": "stream",
     "text": [
      "Collecting psychopy\n",
      "  Using cached https://files.pythonhosted.org/packages/f9/f2/4945a2f1faf3a53b02fde4f240f05f8f77c06043f98cd65a0730dd8d2ed1/PsychoPy-2023.1.3.zip\n",
      "Requirement already satisfied: requests[security] in d:\\anaconda\\lib\\site-packages (from psychopy) (2.21.0)\n",
      "Requirement already satisfied: future in d:\\anaconda\\lib\\site-packages (from psychopy) (0.17.1)\n",
      "Requirement already satisfied: cryptography in d:\\anaconda\\lib\\site-packages (from psychopy) (2.4.2)\n",
      "Collecting pypi_search (from psychopy)\n",
      "  Using cached https://files.pythonhosted.org/packages/d2/61/c4c1f661cbb53af82562947b66aad37ec2e5bed40cbd68972cbc374df01a/pypi_search-2.0-py3-none-any.whl\n",
      "Requirement already satisfied: numpy<1.24.0 in d:\\anaconda\\lib\\site-packages (from psychopy) (1.21.6)\n",
      "Requirement already satisfied: scipy in d:\\anaconda\\lib\\site-packages (from psychopy) (1.1.0)\n",
      "Requirement already satisfied: matplotlib in d:\\anaconda\\lib\\site-packages (from psychopy) (3.0.2)\n",
      "Requirement already satisfied: pandas in d:\\anaconda\\lib\\site-packages (from psychopy) (0.23.4)\n",
      "Requirement already satisfied: pillow in d:\\anaconda\\lib\\site-packages (from psychopy) (5.3.0)\n",
      "Collecting soundfile>=0.11.0 (from psychopy)\n",
      "  Using cached https://files.pythonhosted.org/packages/50/ff/26a4ee48d0b66625a4e4028a055b9f25bc9d7c7b2d17d21a45137621a50d/soundfile-0.12.1-py2.py3-none-win_amd64.whl\n",
      "Collecting python-bidi (from psychopy)\n",
      "  Downloading https://files.pythonhosted.org/packages/99/b5/bec667f30e514ea07638da6dea5053f684763ca6374fa54ab81dbd2303d8/python_bidi-0.6.0-cp37-none-win_amd64.whl (156kB)\n",
      "Collecting arabic_reshaper (from psychopy)\n",
      "  Using cached https://files.pythonhosted.org/packages/44/fb/e20b45d81d74d810b01bff408baf8af04abf1d55a1a289c8395ad0919a7c/arabic_reshaper-3.0.0-py3-none-any.whl\n",
      "Collecting json_tricks (from psychopy)\n",
      "  Using cached https://files.pythonhosted.org/packages/ae/fd/e3edcf827e7f9c17c5ea1a192841dcfb1dd575a7518c25c5cadd921625b1/json_tricks-3.17.3-py2.py3-none-any.whl\n",
      "Requirement already satisfied: xlrd in d:\\anaconda\\lib\\site-packages (from psychopy) (1.2.0)\n",
      "Requirement already satisfied: openpyxl in d:\\anaconda\\lib\\site-packages (from psychopy) (2.5.12)\n",
      "Collecting pyserial (from psychopy)\n",
      "  Using cached https://files.pythonhosted.org/packages/07/bc/587a445451b253b285629263eb51c2d8e9bcea4fc97826266d186f96f558/pyserial-3.5-py2.py3-none-any.whl\n",
      "Requirement already satisfied: pyyaml in d:\\anaconda\\lib\\site-packages (from psychopy) (3.13)\n",
      "Requirement already satisfied: gevent in d:\\anaconda\\lib\\site-packages (from psychopy) (1.3.7)\n",
      "Requirement already satisfied: msgpack in d:\\anaconda\\lib\\site-packages (from psychopy) (0.5.6)\n",
      "Collecting msgpack-numpy (from psychopy)\n",
      "  Using cached https://files.pythonhosted.org/packages/9b/5d/f25ac7d4fb77cbd53ddc6d05d833c6bf52b12770a44fa9a447eed470ca9a/msgpack_numpy-0.4.8-py2.py3-none-any.whl\n",
      "Requirement already satisfied: psutil in d:\\anaconda\\lib\\site-packages (from psychopy) (5.4.8)\n",
      "Requirement already satisfied: tables in d:\\anaconda\\lib\\site-packages (from psychopy) (3.4.4)\n",
      "Requirement already satisfied: pyzmq in d:\\anaconda\\lib\\site-packages (from psychopy) (17.1.2)\n",
      "Collecting ujson (from psychopy)\n",
      "  Downloading https://files.pythonhosted.org/packages/00/6f/4f16d6a9c30994aabc13b6fbbd0df62077892ad3b4c63d62d8472a1c7d5f/ujson-5.7.0-cp37-cp37m-win_amd64.whl (41kB)\n",
      "Collecting moviepy (from psychopy)\n",
      "  Using cached https://files.pythonhosted.org/packages/18/54/01a8c4e35c75ca9724d19a7e4de9dc23f0ceb8769102c7de056113af61c3/moviepy-1.0.3.tar.gz\n",
      "Collecting python-gitlab (from psychopy)\n",
      "  Downloading https://files.pythonhosted.org/packages/38/51/3c7dd08272658e5490d0c0b6c94af15bd0c0649e7ad23c9ed0db1d276143/python_gitlab-3.15.0-py3-none-any.whl (135kB)\n",
      "Collecting gitpython (from psychopy)\n",
      "  Using cached https://files.pythonhosted.org/packages/e9/bd/cc3a402a6439c15c3d4294333e13042b915bbeab54edc457c723931fed3f/GitPython-3.1.43-py3-none-any.whl\n",
      "Collecting astunparse (from psychopy)\n",
      "  Using cached https://files.pythonhosted.org/packages/2b/03/13dde6512ad7b4557eb792fbcf0c653af6076b81e5941d36ec61f7ce6028/astunparse-1.6.3-py2.py3-none-any.whl\n",
      "Collecting esprima (from psychopy)\n",
      "  Using cached https://files.pythonhosted.org/packages/cc/a1/50fccd68a12bcfc27adfc9969c090286670a9109a0259f3f70943390b721/esprima-4.0.1.tar.gz\n",
      "Collecting freetype-py (from psychopy)\n",
      "  Using cached https://files.pythonhosted.org/packages/b4/f5/4b8bb492464247236bd3dabd7734b3ea49adc63cf2e53160e830ebccb39d/freetype_py-2.4.0-py3-none-win_amd64.whl\n",
      "Collecting jedi>=0.16 (from psychopy)\n",
      "  Downloading https://files.pythonhosted.org/packages/20/9f/bc63f0f0737ad7a60800bfd472a4836661adae21f9c2535f3957b1e54ceb/jedi-0.19.1-py2.py3-none-any.whl (1.6MB)\n",
      "Collecting psychtoolbox (from psychopy)\n",
      "  Using cached https://files.pythonhosted.org/packages/99/ef/cf52f5f3751acbb572b05b7ead294d0d6e5503ec71cde7b272f7371eaa56/psychtoolbox-3.0.19.0.tar.gz\n",
      "  Installing build dependencies: started\n",
      "  Installing build dependencies: finished with status 'done'\n",
      "    Complete output from command python setup.py egg_info:\n",
      "    Traceback (most recent call last):\n",
      "      File \"<string>\", line 1, in <module>\n",
      "      File \"C:\\Users\\GAYATR~1\\AppData\\Local\\Temp\\pip-build-env-xk8spr00\\Lib\\site-packages\\setuptools\\__init__.py\", line 15, in <module>\n",
      "        import setuptools.version\n",
      "      File \"C:\\Users\\GAYATR~1\\AppData\\Local\\Temp\\pip-build-env-xk8spr00\\Lib\\site-packages\\setuptools\\version.py\", line 1, in <module>\n",
      "        from ._importlib import metadata\n",
      "      File \"C:\\Users\\GAYATR~1\\AppData\\Local\\Temp\\pip-build-env-xk8spr00\\Lib\\site-packages\\setuptools\\_importlib.py\", line 42, in <module>\n",
      "        disable_importlib_metadata_finder(metadata)\n",
      "      File \"C:\\Users\\GAYATR~1\\AppData\\Local\\Temp\\pip-build-env-xk8spr00\\Lib\\site-packages\\setuptools\\_importlib.py\", line 33, in disable_importlib_metadata_finder\n",
      "        for ob in sys.meta_path\n",
      "      File \"C:\\Users\\GAYATR~1\\AppData\\Local\\Temp\\pip-build-env-xk8spr00\\Lib\\site-packages\\setuptools\\_importlib.py\", line 34, in <listcomp>\n",
      "        if isinstance(ob, importlib_metadata.MetadataPathFinder)\n",
      "    AttributeError: module 'importlib_metadata' has no attribute 'MetadataPathFinder'\n",
      "    \n",
      "    ----------------------------------------\n"
     ]
    },
    {
     "name": "stderr",
     "output_type": "stream",
     "text": [
      "Command \"python setup.py egg_info\" failed with error code 1 in C:\\Users\\GAYATR~1\\AppData\\Local\\Temp\\pip-install-63p5adc_\\psychtoolbox\\\n"
     ]
    }
   ],
   "source": [
    "!pip install psychopy"
   ]
  },
  {
   "cell_type": "code",
   "execution_count": 4,
   "metadata": {},
   "outputs": [
    {
     "name": "stdout",
     "output_type": "stream",
     "text": [
      "Collecting psychtoolbox\n",
      "  Using cached https://files.pythonhosted.org/packages/99/ef/cf52f5f3751acbb572b05b7ead294d0d6e5503ec71cde7b272f7371eaa56/psychtoolbox-3.0.19.0.tar.gz\n",
      "  Installing build dependencies: started\n",
      "  Installing build dependencies: finished with status 'done'\n",
      "    Complete output from command python setup.py egg_info:\n",
      "    Traceback (most recent call last):\n",
      "      File \"<string>\", line 1, in <module>\n",
      "      File \"C:\\Users\\GAYATR~1\\AppData\\Local\\Temp\\pip-build-env-013ye2s7\\Lib\\site-packages\\setuptools\\__init__.py\", line 15, in <module>\n",
      "        import setuptools.version\n",
      "      File \"C:\\Users\\GAYATR~1\\AppData\\Local\\Temp\\pip-build-env-013ye2s7\\Lib\\site-packages\\setuptools\\version.py\", line 1, in <module>\n",
      "        from ._importlib import metadata\n",
      "      File \"C:\\Users\\GAYATR~1\\AppData\\Local\\Temp\\pip-build-env-013ye2s7\\Lib\\site-packages\\setuptools\\_importlib.py\", line 42, in <module>\n",
      "        disable_importlib_metadata_finder(metadata)\n",
      "      File \"C:\\Users\\GAYATR~1\\AppData\\Local\\Temp\\pip-build-env-013ye2s7\\Lib\\site-packages\\setuptools\\_importlib.py\", line 33, in disable_importlib_metadata_finder\n",
      "        for ob in sys.meta_path\n",
      "      File \"C:\\Users\\GAYATR~1\\AppData\\Local\\Temp\\pip-build-env-013ye2s7\\Lib\\site-packages\\setuptools\\_importlib.py\", line 34, in <listcomp>\n",
      "        if isinstance(ob, importlib_metadata.MetadataPathFinder)\n",
      "    AttributeError: module 'importlib_metadata' has no attribute 'MetadataPathFinder'\n",
      "    \n",
      "    ----------------------------------------\n"
     ]
    },
    {
     "name": "stderr",
     "output_type": "stream",
     "text": [
      "Command \"python setup.py egg_info\" failed with error code 1 in C:\\Users\\GAYATR~1\\AppData\\Local\\Temp\\pip-install-cvu60b1f\\psychtoolbox\\\n"
     ]
    }
   ],
   "source": [
    "!pip install psychtoolbox"
   ]
  },
  {
   "cell_type": "code",
   "execution_count": 6,
   "metadata": {},
   "outputs": [
    {
     "name": "stderr",
     "output_type": "stream",
     "text": [
      "\n",
      "Usage:   \n",
      "  pip install [options] <requirement specifier> [package-index-options] ...\n",
      "  pip install [options] -r <requirements file> [package-index-options] ...\n",
      "  pip install [options] [-e] <vcs project url> ...\n",
      "  pip install [options] [-e] <local project path> ...\n",
      "  pip install [options] <archive url/path> ...\n",
      "\n",
      "-e option requires 1 argument\n"
     ]
    }
   ],
   "source": [
    "!pip install -e "
   ]
  },
  {
   "cell_type": "code",
   "execution_count": 8,
   "metadata": {},
   "outputs": [
    {
     "name": "stderr",
     "output_type": "stream",
     "text": [
      "\n",
      "Usage:   \n",
      "  pip install [options] <requirement specifier> [package-index-options] ...\n",
      "  pip install [options] -r <requirements file> [package-index-options] ...\n",
      "  pip install [options] [-e] <vcs project url> ...\n",
      "  pip install [options] [-e] <local project path> ...\n",
      "  pip install [options] <archive url/path> ...\n",
      "\n",
      "no such option: -d\n"
     ]
    }
   ],
   "source": [
    "!pip install -d"
   ]
  },
  {
   "cell_type": "code",
   "execution_count": 9,
   "metadata": {},
   "outputs": [
    {
     "ename": "SyntaxError",
     "evalue": "unexpected EOF while parsing (<ipython-input-9-cbcb54e8d7f7>, line 14)",
     "output_type": "error",
     "traceback": [
      "\u001b[1;36m  File \u001b[1;32m\"<ipython-input-9-cbcb54e8d7f7>\"\u001b[1;36m, line \u001b[1;32m14\u001b[0m\n\u001b[1;33m    # ... (trial logic as described above)\u001b[0m\n\u001b[1;37m                                          ^\u001b[0m\n\u001b[1;31mSyntaxError\u001b[0m\u001b[1;31m:\u001b[0m unexpected EOF while parsing\n"
     ]
    }
   ],
   "source": [
    "from psychopy import visual, core, event, data, gui\n",
    "\n",
    "# Experiment parameters\n",
    "nTrials = 100\n",
    "isi = 0.5  # Inter-stimulus interval\n",
    "\n",
    "# Create a window\n",
    "win = visual.Window([800, 600], fullscr=False, color='gray', units='norm')\n",
    "\n",
    "# Create stimuli and other components (as described above)\n",
    "\n",
    "# Experimental loop\n",
    "for trial in range(nTrials):\n",
    "    # ... (trial logic as described above)\n",
    "    "
   ]
  },
  {
   "cell_type": "code",
   "execution_count": null,
   "metadata": {},
   "outputs": [],
   "source": [
    "from psychopy import visual, core, event, data, gui\n",
    "\n",
    "# Experiment parameters\n",
    "nTrials = 100\n",
    "isi = 0.5  # Inter-stimulus interval\n",
    "\n",
    "# Create a window\n",
    "win = visual.Window([800, 600], fullscr=False, color='gray', units='norm')\n",
    "\n",
    "# Create stimuli\n",
    "fixation = visual.TextStim(win, text='+', color='white', height=0.1)\n",
    "target_text = visual.TextStim(win, text='', height=0.1, color='white')\n",
    "target_image = visual.ImageStim(win, size=(0.5, 0.5))\n",
    "\n",
    "# Create a clock\n",
    "clock = core.Clock()\n",
    "\n",
    "# Experimental loop\n",
    "for trial in range(nTrials):\n",
    "    # Clear the screen\n",
    "    win.flip()\n",
    "\n",
    "    # Present fixation\n",
    "    fixation.draw()\n",
    "    win.flip()\n",
    "    core.wait(0.5)\n",
    "\n",
    "    # Present target\n",
    "    # Logic to determine stimulus type (semantic, spatial, temporal, congruent)\n",
    "    # and set target_text and target_image accordingly\n",
    "    target_text.text = ...\n",
    "    target_image.image = ...\n",
    "    target_text.draw()\n",
    "    target_image.draw()\n",
    "    win.flip()\n",
    "    t_start = clock.getTime()\n",
    "\n",
    "    # Record response\n",
    "    key = event.waitKeys()\n",
    "    t_end = clock.getTime()\n",
    "    rt = t_end - t_start\n",
    "\n",
    "    # Data saving (implement data saving logic here)\n",
    "\n",
    "    # Inter-trial interval\n",
    "    win.flip()\n",
    "    core.wait(isi)\n",
    "\n",
    "# Close the window\n",
    "win.close()"
   ]
  }
 ],
 "metadata": {
  "kernelspec": {
   "display_name": "Python 3",
   "language": "python",
   "name": "python3"
  },
  "language_info": {
   "codemirror_mode": {
    "name": "ipython",
    "version": 3
   },
   "file_extension": ".py",
   "mimetype": "text/x-python",
   "name": "python",
   "nbconvert_exporter": "python",
   "pygments_lexer": "ipython3",
   "version": "3.7.1"
  }
 },
 "nbformat": 4,
 "nbformat_minor": 2
}
