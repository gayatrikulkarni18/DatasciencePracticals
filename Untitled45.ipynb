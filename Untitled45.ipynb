{
 "cells": [
  {
   "cell_type": "code",
   "execution_count": 6,
   "id": "bf46dea4",
   "metadata": {},
   "outputs": [
    {
     "ename": "SyntaxError",
     "evalue": "invalid syntax (3903748300.py, line 8)",
     "output_type": "error",
     "traceback": [
      "\u001b[1;36m  Cell \u001b[1;32mIn[6], line 8\u001b[1;36m\u001b[0m\n\u001b[1;33m    dataset$Purchased = factor(dataset$Purchased, levels = c(0, 1))\u001b[0m\n\u001b[1;37m           ^\u001b[0m\n\u001b[1;31mSyntaxError\u001b[0m\u001b[1;31m:\u001b[0m invalid syntax\n"
     ]
    }
   ],
   "source": [
    "# Decision Tree Classification\n",
    "\n",
    "# Importing the dataset\n",
    "dataset = read.csv('C:\\\\Users\\\\Gayatri kulkarni\\\\Downloads\\\\Social_Network_Ads.csv')\n",
    "dataset = dataset[3:5]\n",
    "\n",
    "# Encoding the target feature as factor\n",
    "dataset$Purchased = factor(dataset$Purchased, levels = c(0, 1))\n",
    "\n",
    "# Splitting the dataset into the Training set and Test set install.packages('caTools')\n",
    "library(caTools) set.seed(123)\n",
    "split = sample.split(dataset$Purchased, SplitRatio = 0.75) training_set = subset(dataset, split == TRUE)\n",
    "test_set = subset(dataset, split == FALSE)\n",
    "\n",
    "# Feature Scaling\n",
    "training_set[-3] = scale(training_set[-3]) test_set[-3] = scale(test_set[-3])\n",
    "\n",
    "# Fitting Decision Tree Classification to the Training set install.packages('rpart')\n",
    "library(rpart)\n",
    "classifier = rpart(formula = Purchased ~ ., data = training_set)\n",
    "\n",
    "# Predicting the Test set results\n",
    "y_pred = predict(classifier, newdata = test_set[-3], type = 'class')\n",
    "\n",
    "# Making the Confusion Matrix cm = table(test_set[, 3], y_pred)\n",
    "\n",
    "# Visualising the Training set results install.packages(\"ElemStatLearn\") library(ElemStatLearn)\n",
    "set = training_set\n",
    "X1 = seq(min(set[, 1]) - 1, max(set[, 1]) + 1, by = 0.01)\n",
    "X2 = seq(min(set[, 2]) - 1, max(set[, 2]) + 1, by = 0.01) grid_set = expand.grid(X1, X2)\n",
    "colnames(grid_set) = c('Age', 'EstimatedSalary')\n",
    "y_grid = predict(classifier, newdata = grid_set, type = 'class') plot(set[, -3],\n",
    "main = 'Decision Tree Classification (Training set)', xlab = 'Age', ylab = 'Estimated Salary',\n",
    "xlim = range(X1), ylim = range(X2))\n",
    "contour(X1, X2, matrix(as.numeric(y_grid), length(X1), length(X2)), add = TRUE) points(grid_set, pch = '.', col = ifelse(y_grid == 1, 'springgreen3', 'tomato')) points(set, pch = 21, bg = ifelse(set[, 3] == 1, 'green4', 'red3'))\n",
    "\n",
    "# Visualising the Test set results library(ElemStatLearn)\n",
    "set = test_set\n",
    "X1 = seq(min(set[, 1]) - 1, max(set[, 1]) + 1, by = 0.01)\n",
    "X2 = seq(min(set[, 2]) - 1, max(set[, 2]) + 1, by = 0.01) grid_set = expand.grid(X1, X2)\n",
    "colnames(grid_set) = c('Age', 'EstimatedSalary')\n",
    "y_grid = predict(classifier, newdata = grid_set, type = 'class') plot(set[, -3], main = 'Decision Tree Classification (Test set)',\n",
    "xlab = 'Age', ylab = 'Estimated Salary', xlim = range(X1), ylim = range(X2))\n",
    "contour(X1, X2, matrix(as.numeric(y_grid), length(X1), length(X2)), add = TRUE) points(grid_set, pch = '.', col = ifelse(y_grid == 1, 'springgreen3', 'tomato')) points(set, pch = 21, bg = ifelse(set[, 3] == 1, 'green4', 'red3'))\n",
    "\n",
    "# Plotting the tree\n",
    "plot(classifier) text(classifier)\n"
   ]
  },
  {
   "cell_type": "code",
   "execution_count": null,
   "id": "60522105",
   "metadata": {},
   "outputs": [],
   "source": []
  }
 ],
 "metadata": {
  "kernelspec": {
   "display_name": "Python 3 (ipykernel)",
   "language": "python",
   "name": "python3"
  },
  "language_info": {
   "codemirror_mode": {
    "name": "ipython",
    "version": 3
   },
   "file_extension": ".py",
   "mimetype": "text/x-python",
   "name": "python",
   "nbconvert_exporter": "python",
   "pygments_lexer": "ipython3",
   "version": "3.11.5"
  }
 },
 "nbformat": 4,
 "nbformat_minor": 5
}
