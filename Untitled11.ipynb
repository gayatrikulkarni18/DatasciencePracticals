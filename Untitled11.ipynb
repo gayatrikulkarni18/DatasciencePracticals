{
 "cells": [
  {
   "cell_type": "code",
   "execution_count": 1,
   "metadata": {},
   "outputs": [
    {
     "name": "stdout",
     "output_type": "stream",
     "text": [
      "Requirement already satisfied: minisom in d:\\anaconda\\lib\\site-packages (2.3.1)\n"
     ]
    },
    {
     "data": {
      "text/plain": [
       "<matplotlib.image.AxesImage at 0x1adf2c45b00>"
      ]
     },
     "execution_count": 1,
     "metadata": {},
     "output_type": "execute_result"
    }
   ],
   "source": [
    "!pip install minisom\n",
    "import minisom\n",
    "from minisom import MiniSom \n",
    "import matplotlib.pyplot as plt\n",
    "\n",
    "data = [[ 0.80, 0.55, 0.22, 0.03],\n",
    " [ 0.82, 0.50, 0.23, 0.03],\n",
    " [ 0.80, 0.54, 0.22, 0.03],\n",
    " [ 0.80, 0.53, 0.26, 0.03],\n",
    " [ 0.79, 0.56, 0.22, 0.03],\n",
    " [ 0.75, 0.60, 0.25, 0.03],\n",
    " [ 0.77, 0.59, 0.22, 0.03]] \n",
    "som = MiniSom(6, 6, 4, sigma=0.3, learning_rate=0.5) # initialization of 6x6 SOM\n",
    "som.train_random(data, 100) # trains the SOM with 100 iterations\n",
    "plt.imshow(som.distance_map())\n"
   ]
  },
  {
   "cell_type": "code",
   "execution_count": 3,
   "metadata": {},
   "outputs": [
    {
     "name": "stdout",
     "output_type": "stream",
     "text": [
      "Gayatri Kulkarni -53004230002\n"
     ]
    },
    {
     "data": {
      "image/png": "[encoded data removed]",
      "text/plain": [
       "<Figure size 432x288 with 1 Axes>"
      ]
     },
     "metadata": {
      "needs_background": "light"
     },
     "output_type": "display_data"
    }
   ],
   "source": [
    "\n",
    "import minisom\n",
    "from minisom import MiniSom \n",
    "import matplotlib.pyplot as plt\n",
    "\n",
    "data = [[ 0.80, 0.55, 0.22, 0.03],\n",
    " [ 0.82, 0.50, 0.23, 0.03],\n",
    " [ 0.80, 0.54, 0.22, 0.03],\n",
    " [ 0.80, 0.53, 0.26, 0.03],\n",
    " [ 0.79, 0.56, 0.22, 0.03],\n",
    " [ 0.75, 0.60, 0.25, 0.03],\n",
    " [ 0.77, 0.59, 0.22, 0.03]] \n",
    "som = MiniSom(6, 6, 4, sigma=0.3, learning_rate=0.5) # initialization of 6x6 SOM\n",
    "som.train_random(data, 100) # trains the SOM with 100 iterations\n",
    "plt.imshow(som.distance_map())\n",
    "print('Gayatri Kulkarni -53004230002')"
   ]
  },
  {
   "cell_type": "code",
   "execution_count": 4,
   "metadata": {},
   "outputs": [
    {
     "name": "stdout",
     "output_type": "stream",
     "text": [
      "Collecting neurodynex\n",
      "  Downloading https://files.pythonhosted.org/packages/0b/9c/6405def71d1e8ad42226c8097816562cab4344f1556a36338f7a83abe99f/neurodynex-0.3.4-py2.py3-none-any.whl (69kB)\n",
      "Requirement already satisfied: matplotlib in d:\\anaconda\\lib\\site-packages (from neurodynex) (3.0.2)\n",
      "Collecting brian2>=2.0 (from neurodynex)\n",
      "  Downloading https://files.pythonhosted.org/packages/49/7f/98fe514ee8c44a737f3f5723aaa2f35899fb8c97ef779ed2e0344dedc23e/Brian2-2.5.1-cp37-cp37m-win_amd64.whl (965kB)\n",
      "Requirement already satisfied: numpy in d:\\anaconda\\lib\\site-packages (from neurodynex) (1.15.4)\n",
      "Requirement already satisfied: scipy in d:\\anaconda\\lib\\site-packages (from neurodynex) (1.1.0)\n",
      "Requirement already satisfied: cycler>=0.10 in d:\\anaconda\\lib\\site-packages (from matplotlib->neurodynex) (0.10.0)\n",
      "Requirement already satisfied: kiwisolver>=1.0.1 in d:\\anaconda\\lib\\site-packages (from matplotlib->neurodynex) (1.0.1)\n",
      "Requirement already satisfied: pyparsing!=2.0.4,!=2.1.2,!=2.1.6,>=2.0.1 in d:\\anaconda\\lib\\site-packages (from matplotlib->neurodynex) (2.3.0)\n",
      "Requirement already satisfied: python-dateutil>=2.1 in d:\\anaconda\\lib\\site-packages (from matplotlib->neurodynex) (2.7.5)\n",
      "Requirement already satisfied: setuptools>=24.2 in d:\\anaconda\\lib\\site-packages (from brian2>=2.0->neurodynex) (40.6.3)\n",
      "Requirement already satisfied: cython>=0.29 in d:\\anaconda\\lib\\site-packages (from brian2>=2.0->neurodynex) (0.29.2)\n",
      "Collecting py-cpuinfo; platform_system == \"Windows\" (from brian2>=2.0->neurodynex)\n",
      "  Downloading https://files.pythonhosted.org/packages/e0/a9/023730ba63db1e494a271cb018dcd361bd2c917ba7004c3e49d5daf795a2/py_cpuinfo-9.0.0-py3-none-any.whl\n",
      "Requirement already satisfied: jinja2>=2.7 in d:\\anaconda\\lib\\site-packages (from brian2>=2.0->neurodynex) (2.10)\n",
      "Requirement already satisfied: sympy>=1.2 in d:\\anaconda\\lib\\site-packages (from brian2>=2.0->neurodynex) (1.3)\n",
      "Requirement already satisfied: six in d:\\anaconda\\lib\\site-packages (from cycler>=0.10->matplotlib->neurodynex) (1.12.0)\n",
      "Requirement already satisfied: MarkupSafe>=0.23 in d:\\anaconda\\lib\\site-packages (from jinja2>=2.7->brian2>=2.0->neurodynex) (1.1.0)\n",
      "Installing collected packages: py-cpuinfo, brian2, neurodynex\n",
      "Successfully installed brian2-2.5.1 neurodynex-0.3.4 py-cpuinfo-9.0.0\n"
     ]
    },
    {
     "name": "stderr",
     "output_type": "stream",
     "text": [
      "brian2 2.5.1 has requirement numpy>=1.17, but you'll have numpy 1.15.4 which is incompatible.\n"
     ]
    }
   ],
   "source": [
    "!pip install neurodynex"
   ]
  },
  {
   "cell_type": "code",
   "execution_count": 5,
   "metadata": {},
   "outputs": [
    {
     "data": {
      "image/png": "[encoded data removed]",
      "text/plain": [
       "<Figure size 432x288 with 4 Axes>"
      ]
     },
     "metadata": {
      "needs_background": "light"
     },
     "output_type": "display_data"
    },
    {
     "name": "stderr",
     "output_type": "stream",
     "text": [
      "D:\\Anaconda\\lib\\site-packages\\matplotlib\\figure.py:98: MatplotlibDeprecationWarning: \n",
      "Adding an axes using the same arguments as a previous axes currently reuses the earlier instance.  In a future version, a new instance will always be created and returned.  Meanwhile, this warning can be suppressed, and the future behavior ensured, by passing a unique label to each axes instance.\n",
      "  \"Adding an axes using the same arguments as a previous axes \"\n"
     ]
    },
    {
     "data": {
      "image/png": "[encoded data removed]",
      "text/plain": [
       "<Figure size 432x288 with 2 Axes>"
      ]
     },
     "metadata": {
      "needs_background": "light"
     },
     "output_type": "display_data"
    },
    {
     "data": {
      "image/png": "[encoded data removed]",
      "text/plain": [
       "<Figure size 432x288 with 10 Axes>"
      ]
     },
     "metadata": {
      "needs_background": "light"
     },
     "output_type": "display_data"
    },
    {
     "name": "stdout",
     "output_type": "stream",
     "text": [
      "Gayatri Kulkarni -53004230002\n"
     ]
    }
   ],
   "source": [
    "from neurodynex.hopfield_network import network, pattern_tools, plot_tools\n",
    "import matplotlib.pyplot as plt\n",
    "\n",
    "pattern_size = 5\n",
    "# create an instance of the class HopfieldNetwork\n",
    "hopfield_net = network.HopfieldNetwork(nr_neurons= pattern_size**2)\n",
    "# instantiate a pattern factory\n",
    "factory = pattern_tools.PatternFactory(pattern_size, pattern_size)\n",
    "\n",
    "# create a checkerboard pattern and add it to the pattern list\n",
    "checkerboard = factory.create_checkerboard()\n",
    "pattern_list = [checkerboard]\n",
    "\n",
    "# add random patterns to the list\n",
    "pattern_list.extend(factory.create_random_pattern_list(nr_patterns=3, on_probability=0.5))\n",
    "plot_tools.plot_pattern_list(pattern_list)\n",
    "\n",
    "# how similar are the random patterns and the checkerboard? Check the overlaps\n",
    "overlap_matrix = pattern_tools.compute_overlap_matrix(pattern_list)\n",
    "plot_tools.plot_overlap_matrix(overlap_matrix)\n",
    "\n",
    "# let the hopfield network \"learn\" the patterns. Note: they are not stored\n",
    "# explicitly but only network weights are updated !\n",
    "hopfield_net.store_patterns(pattern_list)\n",
    "\n",
    "# create a noisy version of a pattern and use that to initialize the network\n",
    "noisy_init_state = pattern_tools.flip_n(checkerboard, nr_of_flips=4)\n",
    "hopfield_net.set_state_from_pattern(noisy_init_state)\n",
    "\n",
    "# from this initial state, let the network dynamics evolve.\n",
    "states = hopfield_net.run_with_monitoring(nr_steps=4)\n",
    "\n",
    "# each network state is a vector. reshape it to the same shape used to create the patterns.\n",
    "states_as_patterns = factory.reshape_patterns(states)\n",
    "\n",
    "# plot the states of the network\n",
    "plot_tools.plot_state_sequence_and_overlap(states_as_patterns, pattern_list, \n",
    "reference_idx=0, suptitle=\"Network dynamics\")\n",
    "print('Gayatri Kulkarni -53004230002')\n"
   ]
  },
  {
   "cell_type": "code",
   "execution_count": null,
   "metadata": {},
   "outputs": [],
   "source": []
  }
 ],
 "metadata": {
  "kernelspec": {
   "display_name": "Python 3",
   "language": "python",
   "name": "python3"
  },
  "language_info": {
   "codemirror_mode": {
    "name": "ipython",
    "version": 3
   },
   "file_extension": ".py",
   "mimetype": "text/x-python",
   "name": "python",
   "nbconvert_exporter": "python",
   "pygments_lexer": "ipython3",
   "version": "3.7.1"
  }
 },
 "nbformat": 4,
 "nbformat_minor": 2
}
