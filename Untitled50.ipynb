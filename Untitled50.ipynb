{
 "cells": [
  {
   "cell_type": "code",
   "execution_count": 2,
   "metadata": {},
   "outputs": [
    {
     "name": "stderr",
     "output_type": "stream",
     "text": [
      "Requirement 'dlib-19.22.99-cp38-cp38-win_amd64.whl' looks like a filename, but the file does not exist\n",
      "dlib-19.22.99-cp38-cp38-win_amd64.whl is not a supported wheel on this platform.\n"
     ]
    },
    {
     "name": "stdout",
     "output_type": "stream",
     "text": [
      "Collecting face_recognition\n",
      "  Using cached https://files.pythonhosted.org/packages/1e/95/f6c9330f54ab07bfa032bf3715c12455a381083125d8880c43cbe76bb3d0/face_recognition-1.3.0-py2.py3-none-any.whl\n",
      "Requirement already satisfied: Click>=6.0 in d:\\anaconda\\lib\\site-packages (from face_recognition) (7.0)\n",
      "Requirement already satisfied: numpy in d:\\anaconda\\lib\\site-packages (from face_recognition) (1.21.6)\n",
      "Requirement already satisfied: Pillow in d:\\anaconda\\lib\\site-packages (from face_recognition) (5.3.0)\n",
      "Collecting dlib>=19.7 (from face_recognition)\n",
      "  Using cached https://files.pythonhosted.org/packages/af/a4/226dbb659e913a4a149b35980e87e10050ea39a0dceac934e9e73cccbef1/dlib-19.24.4.tar.gz\n",
      "  Installing build dependencies: started\n",
      "  Installing build dependencies: finished with status 'done'\n",
      "    Complete output from command python setup.py egg_info:\n",
      "    Traceback (most recent call last):\n",
      "      File \"<string>\", line 1, in <module>\n",
      "      File \"C:\\Users\\GAYATR~1\\AppData\\Local\\Temp\\pip-build-env-_95bv0dn\\Lib\\site-packages\\setuptools\\__init__.py\", line 15, in <module>\n",
      "        import setuptools.version\n",
      "      File \"C:\\Users\\GAYATR~1\\AppData\\Local\\Temp\\pip-build-env-_95bv0dn\\Lib\\site-packages\\setuptools\\version.py\", line 1, in <module>\n",
      "        from ._importlib import metadata\n",
      "      File \"C:\\Users\\GAYATR~1\\AppData\\Local\\Temp\\pip-build-env-_95bv0dn\\Lib\\site-packages\\setuptools\\_importlib.py\", line 42, in <module>\n",
      "        disable_importlib_metadata_finder(metadata)\n",
      "      File \"C:\\Users\\GAYATR~1\\AppData\\Local\\Temp\\pip-build-env-_95bv0dn\\Lib\\site-packages\\setuptools\\_importlib.py\", line 33, in disable_importlib_metadata_finder\n",
      "        for ob in sys.meta_path\n",
      "      File \"C:\\Users\\GAYATR~1\\AppData\\Local\\Temp\\pip-build-env-_95bv0dn\\Lib\\site-packages\\setuptools\\_importlib.py\", line 34, in <listcomp>\n",
      "        if isinstance(ob, importlib_metadata.MetadataPathFinder)\n",
      "    AttributeError: module 'importlib_metadata' has no attribute 'MetadataPathFinder'\n",
      "    \n",
      "    ----------------------------------------\n"
     ]
    },
    {
     "name": "stderr",
     "output_type": "stream",
     "text": [
      "Command \"python setup.py egg_info\" failed with error code 1 in C:\\Users\\GAYATR~1\\AppData\\Local\\Temp\\pip-install-w3s2arcj\\dlib\\\n"
     ]
    },
    {
     "ename": "ModuleNotFoundError",
     "evalue": "No module named 'face_recognition'",
     "output_type": "error",
     "traceback": [
      "\u001b[1;31m---------------------------------------------------------------------------\u001b[0m",
      "\u001b[1;31mModuleNotFoundError\u001b[0m                       Traceback (most recent call last)",
      "\u001b[1;32m<ipython-input-2-4ac403a64714>\u001b[0m in \u001b[0;36m<module>\u001b[1;34m\u001b[0m\n\u001b[0;32m      1\u001b[0m \u001b[0mget_ipython\u001b[0m\u001b[1;33m(\u001b[0m\u001b[1;33m)\u001b[0m\u001b[1;33m.\u001b[0m\u001b[0msystem\u001b[0m\u001b[1;33m(\u001b[0m\u001b[1;34m'pip install dlib-19.22.99-cp38-cp38-win_amd64.whl'\u001b[0m\u001b[1;33m)\u001b[0m\u001b[1;33m\u001b[0m\u001b[1;33m\u001b[0m\u001b[0m\n\u001b[0;32m      2\u001b[0m \u001b[0mget_ipython\u001b[0m\u001b[1;33m(\u001b[0m\u001b[1;33m)\u001b[0m\u001b[1;33m.\u001b[0m\u001b[0msystem\u001b[0m\u001b[1;33m(\u001b[0m\u001b[1;34m'pip install face_recognition'\u001b[0m\u001b[1;33m)\u001b[0m\u001b[1;33m\u001b[0m\u001b[1;33m\u001b[0m\u001b[0m\n\u001b[1;32m----> 3\u001b[1;33m \u001b[1;32mimport\u001b[0m \u001b[0mface_recognition\u001b[0m\u001b[1;33m\u001b[0m\u001b[1;33m\u001b[0m\u001b[0m\n\u001b[0m\u001b[0;32m      4\u001b[0m \u001b[1;32mfrom\u001b[0m \u001b[0mmatplotlib\u001b[0m\u001b[1;33m.\u001b[0m\u001b[0mpatches\u001b[0m \u001b[1;32mimport\u001b[0m \u001b[0mRectangle\u001b[0m\u001b[1;33m\u001b[0m\u001b[1;33m\u001b[0m\u001b[0m\n\u001b[0;32m      5\u001b[0m \u001b[1;32mimport\u001b[0m \u001b[0mmatplotlib\u001b[0m\u001b[1;33m.\u001b[0m\u001b[0mpyplot\u001b[0m \u001b[1;32mas\u001b[0m \u001b[0mplt\u001b[0m\u001b[1;33m\u001b[0m\u001b[1;33m\u001b[0m\u001b[0m\n",
      "\u001b[1;31mModuleNotFoundError\u001b[0m: No module named 'face_recognition'"
     ]
    }
   ],
   "source": [
    "!pip install dlib-19.22.99-cp38-cp38-win_amd64.whl\n",
    "!pip install face_recognition\n",
    "import face_recognition\n",
    "from matplotlib.patches import Rectangle\n",
    "import matplotlib.pyplot as plt\n",
    "known_image = face_recognition.load_image_file('ryan.jpg')\n",
    "known_face_encoding = face_recognition.face_encodings(known_image)[0]\n",
    "unknown_image = face_recognition.load_image_file('test_ryan.jpg')\n",
    "unknown_face_locations = face_recognition.face_locations(unknown_image)\n",
    "unknown_face_encodings = face_recognition.face_encodings(unknown_image, unknown_face_locations)\n",
    "unknown_image_rgb = unknown_image[:, :, ::-1]\n",
    "fig,ax= plt.subplots(figsize=(8,6))\n",
    "ax.imshow(unknown_image_rgb)\n",
    "for (top, right, bottom, left), unknown_face_encoding in zip(unknown_face_locations, unknown_face_encodings):\n",
    "    results=face_recognition.compare_faces([known_face_encoding], unknown_face_encoding)\n",
    "if results[0]:\n",
    "    name=\"Known-Ryan\"\n",
    "else:\n",
    "    name=\"Unknown\"\n",
    "ax.add_patch(Rectangle((left, top), right - left, bottom-top, fill=False, color='green', linewidth=2))\n",
    "ax.text(left+6, bottom+25, name, color='white', fontsize=12)\n",
    "plt.axis('off')"
   ]
  },
  {
   "cell_type": "code",
   "execution_count": null,
   "metadata": {},
   "outputs": [],
   "source": []
  }
 ],
 "metadata": {
  "kernelspec": {
   "display_name": "Python 3",
   "language": "python",
   "name": "python3"
  },
  "language_info": {
   "codemirror_mode": {
    "name": "ipython",
    "version": 3
   },
   "file_extension": ".py",
   "mimetype": "text/x-python",
   "name": "python",
   "nbconvert_exporter": "python",
   "pygments_lexer": "ipython3",
   "version": "3.7.1"
  }
 },
 "nbformat": 4,
 "nbformat_minor": 2
}
