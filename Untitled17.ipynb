{
 "cells": [
  {
   "cell_type": "code",
   "execution_count": 2,
   "metadata": {},
   "outputs": [
    {
     "ename": "ModuleNotFoundError",
     "evalue": "No module named 'pandas.compat'",
     "output_type": "error",
     "traceback": [
      "\u001b[1;31m---------------------------------------------------------------------------\u001b[0m",
      "\u001b[1;31mModuleNotFoundError\u001b[0m                       Traceback (most recent call last)",
      "\u001b[1;32m<ipython-input-2-aab1e1d5891f>\u001b[0m in \u001b[0;36m<module>\u001b[1;34m\u001b[0m\n\u001b[1;32m----> 1\u001b[1;33m \u001b[1;32mimport\u001b[0m \u001b[0mpandas\u001b[0m\u001b[1;33m\u001b[0m\u001b[1;33m\u001b[0m\u001b[0m\n\u001b[0m\u001b[0;32m      2\u001b[0m \u001b[1;32mimport\u001b[0m \u001b[0msys\u001b[0m\u001b[1;33m\u001b[0m\u001b[1;33m\u001b[0m\u001b[0m\n\u001b[0;32m      3\u001b[0m \u001b[1;32mimport\u001b[0m \u001b[0mos\u001b[0m\u001b[1;33m\u001b[0m\u001b[1;33m\u001b[0m\u001b[0m\n\u001b[0;32m      4\u001b[0m \u001b[1;32mimport\u001b[0m \u001b[0mpandas\u001b[0m \u001b[1;32mas\u001b[0m \u001b[0mpd\u001b[0m\u001b[1;33m\u001b[0m\u001b[1;33m\u001b[0m\u001b[0m\n\u001b[0;32m      5\u001b[0m \u001b[1;31m################################################################\u001b[0m\u001b[1;33m\u001b[0m\u001b[1;33m\u001b[0m\u001b[1;33m\u001b[0m\u001b[0m\n",
      "\u001b[1;32mD:\\Anaconda\\lib\\site-packages\\pandas\\__init__.py\u001b[0m in \u001b[0;36m<module>\u001b[1;34m\u001b[0m\n\u001b[0;32m     21\u001b[0m \u001b[1;33m\u001b[0m\u001b[0m\n\u001b[0;32m     22\u001b[0m \u001b[1;31m# numpy compat\u001b[0m\u001b[1;33m\u001b[0m\u001b[1;33m\u001b[0m\u001b[1;33m\u001b[0m\u001b[0m\n\u001b[1;32m---> 23\u001b[1;33m \u001b[1;32mfrom\u001b[0m \u001b[0mpandas\u001b[0m\u001b[1;33m.\u001b[0m\u001b[0mcompat\u001b[0m\u001b[1;33m.\u001b[0m\u001b[0mnumpy\u001b[0m \u001b[1;32mimport\u001b[0m \u001b[1;33m*\u001b[0m\u001b[1;33m\u001b[0m\u001b[1;33m\u001b[0m\u001b[0m\n\u001b[0m\u001b[0;32m     24\u001b[0m \u001b[1;33m\u001b[0m\u001b[0m\n\u001b[0;32m     25\u001b[0m \u001b[1;32mtry\u001b[0m\u001b[1;33m:\u001b[0m\u001b[1;33m\u001b[0m\u001b[1;33m\u001b[0m\u001b[0m\n",
      "\u001b[1;31mModuleNotFoundError\u001b[0m: No module named 'pandas.compat'"
     ]
    }
   ],
   "source": [
    "import pandas\n",
    "import sys\n",
    "import os\n",
    "import pandas as pd\n",
    "################################################################\n",
    "InputFileName='IP_DATA_CORE.csv'\n",
    "OutputFileName='Retrieve_Router_Location.csv'\n",
    "################################################################\n",
    "if sys.platform == 'linux':\n",
    "    Base=os.path.expanduser('~') + '/VKHCG'\n",
    "else:\n",
    "    Base='C:/VKHCG'\n",
    "################################################################\n",
    "sFileName=Base + '/01-Vermeulen/00-RawData/' + InputFileName\n",
    "print('Loading :',sFileName)\n",
    "IP_DATA_ALL=pd.read_csv(sFileName,header=0,low_memory=False,\n",
    "usecols=['Country','Place Name','Latitude','Longitude'])\n",
    "IP_DATA_ALL.rename(columns={'Place Name': 'Place_Name'}, inplace=True)\n",
    "################################################################\n",
    "sFileDir=Base + '/01-Vermeulen/01-Retrieve/01-EDS/02-Python'\n",
    "if not os.path.exists(sFileDir):\n",
    "    os.makedirs(sFileDir)\n",
    "ROUTERLOC = IP_DATA_ALL.drop_duplicates(subset=None, keep='first',inplace=False)\n",
    "print('Rows :',ROUTERLOC.shape[0])\n",
    "print('Columns :',ROUTERLOC.shape[1])\n",
    "sFileName2=sFileDir + '/' + OutputFileName\n",
    "ROUTERLOC.to_csv(sFileName2, index = False)\n",
    "################################################################\n",
    "print('### Done!! ############################################')\n",
    "################################################################\n",
    "print('Gayatri Kulkarni -53004230002')\n",
    "\n"
   ]
  },
  {
   "cell_type": "code",
   "execution_count": 2,
   "metadata": {},
   "outputs": [
    {
     "ename": "SyntaxError",
     "evalue": "invalid syntax (<ipython-input-2-1ea369783e75>, line 1)",
     "output_type": "error",
     "traceback": [
      "\u001b[1;36m  File \u001b[1;32m\"<ipython-input-2-1ea369783e75>\"\u001b[1;36m, line \u001b[1;32m1\u001b[0m\n\u001b[1;33m    python3 -m pip freeze | grep -i pandas\u001b[0m\n\u001b[1;37m                 ^\u001b[0m\n\u001b[1;31mSyntaxError\u001b[0m\u001b[1;31m:\u001b[0m invalid syntax\n"
     ]
    }
   ],
   "source": [
    "python3 -m pip freeze | grep -i pandas\n",
    "pandas==1.3.3\n",
    "pandas-compat==0.1.1\n"
   ]
  },
  {
   "cell_type": "code",
   "execution_count": null,
   "metadata": {},
   "outputs": [],
   "source": []
  }
 ],
 "metadata": {
  "kernelspec": {
   "display_name": "Python 3",
   "language": "python",
   "name": "python3"
  }
 },
 "nbformat": 4,
 "nbformat_minor": 2
}
