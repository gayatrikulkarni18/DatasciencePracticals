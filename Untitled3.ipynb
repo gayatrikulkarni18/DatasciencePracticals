{
 "cells": [
  {
   "cell_type": "code",
   "execution_count": 7,
   "metadata": {},
   "outputs": [
    {
     "name": "stdout",
     "output_type": "stream",
     "text": [
      "################################\n",
      "Working Base : C:/VKHCG  using  win32\n",
      "################################\n"
     ]
    }
   ],
   "source": [
    "import sys\n",
    "import os\n",
    "import pandas as pd\n",
    "import sqlite3 as sq\n",
    "################################################################\n",
    "if sys.platform == 'linux' or sys.platform == ' darwin':\n",
    " Base=os.path.expanduser('~') + '/VKHCG'\n",
    "else:\n",
    " Base='C:/VKHCG'\n",
    "print('################################')\n",
    "print('Working Base :',Base, ' using ', sys.platform)\n",
    "print('################################')\n",
    "################################################################\n",
    "################################################################\n",
    "Company='01-Vermeulen'\n",
    "################################################################\n",
    "sDataWarehouseDir=Base + '/99-DW'\n",
    "if not os.path.exists(sDataWarehouseDir):\n",
    " os.makedirs(sDataWarehouseDir)\n",
    "################################################################\n",
    "sDatabaseName=sDataWarehouseDir + '/datawarehouse.db'\n",
    "conn1 = sq.connect(sDatabaseName)\n",
    "################################################################\n",
    "sDatabaseName=sDataWarehouseDir + '/datamart.db'\n",
    "conn2 = sq.connect(sDatabaseName)\n",
    "################################################################"
   ]
  },
  {
   "cell_type": "code",
   "execution_count": 8,
   "metadata": {},
   "outputs": [
    {
     "name": "stdout",
     "output_type": "stream",
     "text": [
      "################\n",
      "Loading : C:/VKHCG/99-DW/datamart.db  Table: Dim-BMI\n"
     ]
    }
   ],
   "source": [
    "print('################')\n",
    "sTable = 'Dim-BMI'\n",
    "print('Loading :',sDatabaseName,' Table:',sTable)\n",
    "sSQL=\"SELECT * FROM [Dim-BMI];\"\n",
    "PersonFrame0=pd.read_sql_query(sSQL, conn1)\n"
   ]
  },
  {
   "cell_type": "code",
   "execution_count": 10,
   "metadata": {},
   "outputs": [
    {
     "name": "stdout",
     "output_type": "stream",
     "text": [
      "################\n",
      "Loading : C:/VKHCG/99-DW/datamart.db  Table: Dim-BMI\n",
      "\n",
      "#################################\n",
      "Storing : C:/VKHCG/99-DW/datamart.db \n",
      " Table: Dim-BMI\n",
      "\n",
      "#################################\n",
      "################\n",
      "Loading : C:/VKHCG/99-DW/datamart.db  Table: Dim-BMI\n"
     ]
    }
   ],
   "source": [
    "print('################')\n",
    "sTable = 'Dim-BMI'\n",
    "print('Loading :',sDatabaseName,' Table:',sTable)\n",
    "sSQL=\"SELECT \\\n",
    " Height,\\\n",
    " Weight,\\\n",
    " Indicator\\\n",
    " FROM [Dim-BMI];\"\n",
    "PersonFrame1=pd.read_sql_query(sSQL, conn1)\n",
    "################################################################\n",
    "DimPerson=PersonFrame1\n",
    "DimPersonIndex=DimPerson.set_index(['Indicator'],inplace=False)\n",
    "################################################################\n",
    "sTable = 'Dim-BMI'\n",
    "print('\\n#################################')\n",
    "print('Storing :',sDatabaseName,'\\n Table:',sTable)\n",
    "print('\\n#################################')\n",
    "DimPersonIndex.to_sql(sTable, conn2, if_exists=\"replace\")\n",
    "################################################################\n",
    "print('################')\n",
    "sTable = 'Dim-BMI'\n",
    "print('Loading :',sDatabaseName,' Table:',sTable)\n",
    "sSQL=\"SELECT * FROM [Dim-BMI];\"\n",
    "PersonFrame2=pd.read_sql_query(sSQL, conn2)\n",
    "###############################################################"
   ]
  },
  {
   "cell_type": "code",
   "execution_count": 12,
   "metadata": {},
   "outputs": [
    {
     "name": "stdout",
     "output_type": "stream",
     "text": [
      "Full Data Set (Rows): 1080\n",
      "Full Data Set (Columns): 5\n",
      "Horizontal Data Set (Rows): 1080\n",
      "Horizontal Data Set (Columns): 3\n",
      "Gayatri kulkarni sapid -53004230002\n"
     ]
    }
   ],
   "source": [
    "print('Full Data Set (Rows):', PersonFrame0.shape[0])\n",
    "print('Full Data Set (Columns):', PersonFrame0.shape[1])\n",
    "print('Horizontal Data Set (Rows):', PersonFrame2.shape[0])\n",
    "print('Horizontal Data Set (Columns):', PersonFrame2.shape[1])\n",
    "\n",
    "print('Gayatri kulkarni sapid -53004230002')"
   ]
  },
  {
   "cell_type": "code",
   "execution_count": null,
   "metadata": {},
   "outputs": [],
   "source": []
  }
 ],
 "metadata": {
  "kernelspec": {
   "display_name": "Python 3",
   "language": "python",
   "name": "python3"
  },
  "language_info": {
   "codemirror_mode": {
    "name": "ipython",
    "version": 3
   },
   "file_extension": ".py",
   "mimetype": "text/x-python",
   "name": "python",
   "nbconvert_exporter": "python",
   "pygments_lexer": "ipython3",
   "version": "3.7.1"
  }
 },
 "nbformat": 4,
 "nbformat_minor": 2
}
