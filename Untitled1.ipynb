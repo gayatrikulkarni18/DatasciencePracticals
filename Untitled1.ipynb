{
 "cells": [
  {
   "cell_type": "code",
   "execution_count": 1,
   "metadata": {},
   "outputs": [
    {
     "name": "stdout",
     "output_type": "stream",
     "text": [
      "################################\n",
      "Working Base : D:\\practical-data-science-master\\VKHCG  using  win32\n",
      "################################\n",
      "################\n",
      "Loading : D:\\practical-data-science-master\\VKHCG/99-DW/datamart.db  Table: Dim-BMI\n"
     ]
    }
   ],
   "source": [
    "import sys\n",
    "import os\n",
    "import pandas as pd\n",
    "import sqlite3 as sq\n",
    "if sys.platform == 'linux' or sys.platform == ' darwin':\n",
    "    Base=os.path.expanduser('~') + '/VKHCG'\n",
    "else:\n",
    "    Base='D:\\practical-data-science-master\\VKHCG'\n",
    "print('################################')\n",
    "print('Working Base :',Base, ' using ', sys.platform)\n",
    "print('################################')\n",
    "################################################################\n",
    "################################################################\n",
    "Company='01-Vermeulen'\n",
    "sDataWarehouseDir=Base + '/99-DW'\n",
    "if not os.path.exists(sDataWarehouseDir):\n",
    "    os.makedirs(sDataWarehouseDir)\n",
    "sDatabaseName=sDataWarehouseDir + '/datawarehouse.db'\n",
    "conn1 = sq.connect(sDatabaseName)\n",
    "sDatabaseName=sDataWarehouseDir + '/datamart.db'\n",
    "conn2 = sq.connect(sDatabaseName)\n",
    "print('################')\n",
    "sTable = 'Dim-BMI'\n",
    "print('Loading :',sDatabaseName,' Table:',sTable)\n",
    "sSQL=\"SELECT * FROM [Dim-BMI];\"\n",
    "PersonFrame0=pd.read_sql_query(sSQL, conn1)"
   ]
  },
  {
   "cell_type": "code",
   "execution_count": 2,
   "metadata": {},
   "outputs": [
    {
     "name": "stdout",
     "output_type": "stream",
     "text": [
      "################\n",
      "Loading : D:\\practical-data-science-master\\VKHCG/99-DW/datamart.db  Table: Dim-BMI\n"
     ]
    }
   ],
   "source": [
    "print('################')\n",
    "sTable = 'Dim-BMI'\n",
    "print('Loading :',sDatabaseName,' Table:',sTable)"
   ]
  },
  {
   "cell_type": "code",
   "execution_count": 3,
   "metadata": {},
   "outputs": [
    {
     "name": "stdout",
     "output_type": "stream",
     "text": [
      "\n",
      "#################################\n",
      "Storing : D:\\practical-data-science-master\\VKHCG/99-DW/datamart.db \n",
      " Table: Dim-BMI\n",
      "\n",
      "#################################\n",
      "################\n",
      "Loading : D:\\practical-data-science-master\\VKHCG/99-DW/datamart.db  Table: Dim-BMI-Vertical\n"
     ]
    }
   ],
   "source": [
    "sSQL=\"SELECT \\\n",
    "        Height,\\\n",
    "        Weight,\\\n",
    "        Indicator\\\n",
    "        FROM [Dim-BMI]\\\n",
    "        WHERE Indicator > 2\\\n",
    "        ORDER BY \\\n",
    "        Height,\\\n",
    "        Weight;\"\n",
    "PersonFrame1=pd.read_sql_query(sSQL, conn1)\n",
    "################################################################\n",
    "DimPerson=PersonFrame1\n",
    "DimPersonIndex=DimPerson.set_index(['Indicator'],inplace=False)\n",
    "################################################################\n",
    "sTable = 'Dim-BMI'\n",
    "print('\\n#################################')\n",
    "print('Storing :',sDatabaseName,'\\n Table:',sTable)\n",
    "print('\\n#################################')\n",
    "DimPersonIndex.to_sql(sTable, conn2, if_exists=\"replace\")\n",
    "################################################################\n",
    "print('################')\n",
    "sTable = 'Dim-BMI-Vertical'\n",
    "print('Loading :',sDatabaseName,' Table:',sTable)\n",
    "sSQL=\"SELECT * FROM [Dim-BMI-Vertical];\"\n",
    "PersonFrame2=pd.read_sql_query(sSQL, conn2)"
   ]
  },
  {
   "cell_type": "code",
   "execution_count": 4,
   "metadata": {},
   "outputs": [
    {
     "name": "stdout",
     "output_type": "stream",
     "text": [
      "Full Data Set (Rows): 1080\n",
      "Full Data Set (Columns): 5\n",
      "Horizontal Data Set (Rows): 771\n",
      "Horizontal Data Set (Columns): 3\n"
     ]
    }
   ],
   "source": [
    "print('Full Data Set (Rows):', PersonFrame0.shape[0])\n",
    "print('Full Data Set (Columns):', PersonFrame0.shape[1])\n",
    "print('Horizontal Data Set (Rows):', PersonFrame2.shape[0])\n",
    "print('Horizontal Data Set (Columns):', PersonFrame2.shape[1])"
   ]
  },
  {
   "cell_type": "code",
   "execution_count": 5,
   "metadata": {},
   "outputs": [
    {
     "name": "stdout",
     "output_type": "stream",
     "text": [
      "Gayatri kulkarni sapid -53004230002\n"
     ]
    }
   ],
   "source": [
    "print('Gayatri kulkarni sapid -53004230002')"
   ]
  },
  {
   "cell_type": "code",
   "execution_count": null,
   "metadata": {},
   "outputs": [],
   "source": []
  }
 ],
 "metadata": {
  "kernelspec": {
   "display_name": "Python 3",
   "language": "python",
   "name": "python3"
  },
  "language_info": {
   "codemirror_mode": {
    "name": "ipython",
    "version": 3
   },
   "file_extension": ".py",
   "mimetype": "text/x-python",
   "name": "python",
   "nbconvert_exporter": "python",
   "pygments_lexer": "ipython3",
   "version": "3.7.1"
  }
 },
 "nbformat": 4,
 "nbformat_minor": 2
}
